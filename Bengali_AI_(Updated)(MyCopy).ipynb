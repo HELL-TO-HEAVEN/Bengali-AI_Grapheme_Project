{
  "nbformat": 4,
  "nbformat_minor": 0,
  "metadata": {
    "colab": {
      "name": "Bengali AI (Updated)(MyCopy).ipynb",
      "provenance": [],
      "collapsed_sections": [
        "eVgtTTNcCWCw",
        "cP0F80TBIX_A",
        "T1OabISADf9H",
        "S8MdKIDwRwOp",
        "LH7VuIabUdWg",
        "9Dm2jbgXUiU3"
      ],
      "toc_visible": true,
      "machine_shape": "hm",
      "include_colab_link": true
    },
    "kernelspec": {
      "name": "python3",
      "display_name": "Python 3"
    },
    "accelerator": "GPU",
    "widgets": {
      "application/vnd.jupyter.widget-state+json": {
        "bd083596e6784fba9354d2cbd1cd44e9": {
          "model_module": "@jupyter-widgets/controls",
          "model_name": "HBoxModel",
          "state": {
            "_view_name": "HBoxView",
            "_dom_classes": [],
            "_model_name": "HBoxModel",
            "_view_module": "@jupyter-widgets/controls",
            "_model_module_version": "1.5.0",
            "_view_count": null,
            "_view_module_version": "1.5.0",
            "box_style": "",
            "layout": "IPY_MODEL_b72491b8f34b404e958b8fcc82a5b0d7",
            "_model_module": "@jupyter-widgets/controls",
            "children": [
              "IPY_MODEL_aa204d4314d6460a88b14a1c76deefdb",
              "IPY_MODEL_be6b08dc2e29475c8f6a20ae047c1683"
            ]
          }
        },
        "b72491b8f34b404e958b8fcc82a5b0d7": {
          "model_module": "@jupyter-widgets/base",
          "model_name": "LayoutModel",
          "state": {
            "_view_name": "LayoutView",
            "grid_template_rows": null,
            "right": null,
            "justify_content": null,
            "_view_module": "@jupyter-widgets/base",
            "overflow": null,
            "_model_module_version": "1.2.0",
            "_view_count": null,
            "flex_flow": null,
            "width": null,
            "min_width": null,
            "border": null,
            "align_items": null,
            "bottom": null,
            "_model_module": "@jupyter-widgets/base",
            "top": null,
            "grid_column": null,
            "overflow_y": null,
            "overflow_x": null,
            "grid_auto_flow": null,
            "grid_area": null,
            "grid_template_columns": null,
            "flex": null,
            "_model_name": "LayoutModel",
            "justify_items": null,
            "grid_row": null,
            "max_height": null,
            "align_content": null,
            "visibility": null,
            "align_self": null,
            "height": null,
            "min_height": null,
            "padding": null,
            "grid_auto_rows": null,
            "grid_gap": null,
            "max_width": null,
            "order": null,
            "_view_module_version": "1.2.0",
            "grid_template_areas": null,
            "object_position": null,
            "object_fit": null,
            "grid_auto_columns": null,
            "margin": null,
            "display": null,
            "left": null
          }
        },
        "aa204d4314d6460a88b14a1c76deefdb": {
          "model_module": "@jupyter-widgets/controls",
          "model_name": "IntProgressModel",
          "state": {
            "_view_name": "ProgressView",
            "style": "IPY_MODEL_e71672556f934d74b84ca9de89293d63",
            "_dom_classes": [],
            "description": "",
            "_model_name": "IntProgressModel",
            "bar_style": "success",
            "max": 3,
            "_view_module": "@jupyter-widgets/controls",
            "_model_module_version": "1.5.0",
            "value": 3,
            "_view_count": null,
            "_view_module_version": "1.5.0",
            "orientation": "horizontal",
            "min": 0,
            "description_tooltip": null,
            "_model_module": "@jupyter-widgets/controls",
            "layout": "IPY_MODEL_5948d6951649412f9d4dfeef24fb432f"
          }
        },
        "be6b08dc2e29475c8f6a20ae047c1683": {
          "model_module": "@jupyter-widgets/controls",
          "model_name": "HTMLModel",
          "state": {
            "_view_name": "HTMLView",
            "style": "IPY_MODEL_842c71a7605d4a0490ad4020bff25fe3",
            "_dom_classes": [],
            "description": "",
            "_model_name": "HTMLModel",
            "placeholder": "​",
            "_view_module": "@jupyter-widgets/controls",
            "_model_module_version": "1.5.0",
            "value": "100% 3/3 [00:00&lt;00:00, 103.18it/s]",
            "_view_count": null,
            "_view_module_version": "1.5.0",
            "description_tooltip": null,
            "_model_module": "@jupyter-widgets/controls",
            "layout": "IPY_MODEL_7a7bd6d982bf46f3a5fd295b3a1e23f5"
          }
        },
        "e71672556f934d74b84ca9de89293d63": {
          "model_module": "@jupyter-widgets/controls",
          "model_name": "ProgressStyleModel",
          "state": {
            "_view_name": "StyleView",
            "_model_name": "ProgressStyleModel",
            "description_width": "",
            "_view_module": "@jupyter-widgets/base",
            "_model_module_version": "1.5.0",
            "_view_count": null,
            "_view_module_version": "1.2.0",
            "bar_color": null,
            "_model_module": "@jupyter-widgets/controls"
          }
        },
        "5948d6951649412f9d4dfeef24fb432f": {
          "model_module": "@jupyter-widgets/base",
          "model_name": "LayoutModel",
          "state": {
            "_view_name": "LayoutView",
            "grid_template_rows": null,
            "right": null,
            "justify_content": null,
            "_view_module": "@jupyter-widgets/base",
            "overflow": null,
            "_model_module_version": "1.2.0",
            "_view_count": null,
            "flex_flow": null,
            "width": null,
            "min_width": null,
            "border": null,
            "align_items": null,
            "bottom": null,
            "_model_module": "@jupyter-widgets/base",
            "top": null,
            "grid_column": null,
            "overflow_y": null,
            "overflow_x": null,
            "grid_auto_flow": null,
            "grid_area": null,
            "grid_template_columns": null,
            "flex": null,
            "_model_name": "LayoutModel",
            "justify_items": null,
            "grid_row": null,
            "max_height": null,
            "align_content": null,
            "visibility": null,
            "align_self": null,
            "height": null,
            "min_height": null,
            "padding": null,
            "grid_auto_rows": null,
            "grid_gap": null,
            "max_width": null,
            "order": null,
            "_view_module_version": "1.2.0",
            "grid_template_areas": null,
            "object_position": null,
            "object_fit": null,
            "grid_auto_columns": null,
            "margin": null,
            "display": null,
            "left": null
          }
        },
        "842c71a7605d4a0490ad4020bff25fe3": {
          "model_module": "@jupyter-widgets/controls",
          "model_name": "DescriptionStyleModel",
          "state": {
            "_view_name": "StyleView",
            "_model_name": "DescriptionStyleModel",
            "description_width": "",
            "_view_module": "@jupyter-widgets/base",
            "_model_module_version": "1.5.0",
            "_view_count": null,
            "_view_module_version": "1.2.0",
            "_model_module": "@jupyter-widgets/controls"
          }
        },
        "7a7bd6d982bf46f3a5fd295b3a1e23f5": {
          "model_module": "@jupyter-widgets/base",
          "model_name": "LayoutModel",
          "state": {
            "_view_name": "LayoutView",
            "grid_template_rows": null,
            "right": null,
            "justify_content": null,
            "_view_module": "@jupyter-widgets/base",
            "overflow": null,
            "_model_module_version": "1.2.0",
            "_view_count": null,
            "flex_flow": null,
            "width": null,
            "min_width": null,
            "border": null,
            "align_items": null,
            "bottom": null,
            "_model_module": "@jupyter-widgets/base",
            "top": null,
            "grid_column": null,
            "overflow_y": null,
            "overflow_x": null,
            "grid_auto_flow": null,
            "grid_area": null,
            "grid_template_columns": null,
            "flex": null,
            "_model_name": "LayoutModel",
            "justify_items": null,
            "grid_row": null,
            "max_height": null,
            "align_content": null,
            "visibility": null,
            "align_self": null,
            "height": null,
            "min_height": null,
            "padding": null,
            "grid_auto_rows": null,
            "grid_gap": null,
            "max_width": null,
            "order": null,
            "_view_module_version": "1.2.0",
            "grid_template_areas": null,
            "object_position": null,
            "object_fit": null,
            "grid_auto_columns": null,
            "margin": null,
            "display": null,
            "left": null
          }
        },
        "6702c0c076314c6b8b1e55b73b910cec": {
          "model_module": "@jupyter-widgets/controls",
          "model_name": "HBoxModel",
          "state": {
            "_view_name": "HBoxView",
            "_dom_classes": [],
            "_model_name": "HBoxModel",
            "_view_module": "@jupyter-widgets/controls",
            "_model_module_version": "1.5.0",
            "_view_count": null,
            "_view_module_version": "1.5.0",
            "box_style": "",
            "layout": "IPY_MODEL_9d7b1d95103d44178133f45162b8a72d",
            "_model_module": "@jupyter-widgets/controls",
            "children": [
              "IPY_MODEL_e731a0eccd9648528090789206320a74",
              "IPY_MODEL_52bd54fa5d824fb18fe379203cd9e70c"
            ]
          }
        },
        "9d7b1d95103d44178133f45162b8a72d": {
          "model_module": "@jupyter-widgets/base",
          "model_name": "LayoutModel",
          "state": {
            "_view_name": "LayoutView",
            "grid_template_rows": null,
            "right": null,
            "justify_content": null,
            "_view_module": "@jupyter-widgets/base",
            "overflow": null,
            "_model_module_version": "1.2.0",
            "_view_count": null,
            "flex_flow": null,
            "width": null,
            "min_width": null,
            "border": null,
            "align_items": null,
            "bottom": null,
            "_model_module": "@jupyter-widgets/base",
            "top": null,
            "grid_column": null,
            "overflow_y": null,
            "overflow_x": null,
            "grid_auto_flow": null,
            "grid_area": null,
            "grid_template_columns": null,
            "flex": null,
            "_model_name": "LayoutModel",
            "justify_items": null,
            "grid_row": null,
            "max_height": null,
            "align_content": null,
            "visibility": null,
            "align_self": null,
            "height": null,
            "min_height": null,
            "padding": null,
            "grid_auto_rows": null,
            "grid_gap": null,
            "max_width": null,
            "order": null,
            "_view_module_version": "1.2.0",
            "grid_template_areas": null,
            "object_position": null,
            "object_fit": null,
            "grid_auto_columns": null,
            "margin": null,
            "display": null,
            "left": null
          }
        },
        "e731a0eccd9648528090789206320a74": {
          "model_module": "@jupyter-widgets/controls",
          "model_name": "IntProgressModel",
          "state": {
            "_view_name": "ProgressView",
            "style": "IPY_MODEL_3c27619ebc0f46d99ea6700ed26fc050",
            "_dom_classes": [],
            "description": "",
            "_model_name": "IntProgressModel",
            "bar_style": "success",
            "max": 3,
            "_view_module": "@jupyter-widgets/controls",
            "_model_module_version": "1.5.0",
            "value": 3,
            "_view_count": null,
            "_view_module_version": "1.5.0",
            "orientation": "horizontal",
            "min": 0,
            "description_tooltip": null,
            "_model_module": "@jupyter-widgets/controls",
            "layout": "IPY_MODEL_3d5769ebf76e48fa9dcf0e3b8c956b64"
          }
        },
        "52bd54fa5d824fb18fe379203cd9e70c": {
          "model_module": "@jupyter-widgets/controls",
          "model_name": "HTMLModel",
          "state": {
            "_view_name": "HTMLView",
            "style": "IPY_MODEL_02d3ed60880a4998985bd59244e29e0c",
            "_dom_classes": [],
            "description": "",
            "_model_name": "HTMLModel",
            "placeholder": "​",
            "_view_module": "@jupyter-widgets/controls",
            "_model_module_version": "1.5.0",
            "value": "100% 3/3 [00:00&lt;00:00, 25.43it/s]",
            "_view_count": null,
            "_view_module_version": "1.5.0",
            "description_tooltip": null,
            "_model_module": "@jupyter-widgets/controls",
            "layout": "IPY_MODEL_e35e784b9e16468bab8ddcaee4ec25d7"
          }
        },
        "3c27619ebc0f46d99ea6700ed26fc050": {
          "model_module": "@jupyter-widgets/controls",
          "model_name": "ProgressStyleModel",
          "state": {
            "_view_name": "StyleView",
            "_model_name": "ProgressStyleModel",
            "description_width": "",
            "_view_module": "@jupyter-widgets/base",
            "_model_module_version": "1.5.0",
            "_view_count": null,
            "_view_module_version": "1.2.0",
            "bar_color": null,
            "_model_module": "@jupyter-widgets/controls"
          }
        },
        "3d5769ebf76e48fa9dcf0e3b8c956b64": {
          "model_module": "@jupyter-widgets/base",
          "model_name": "LayoutModel",
          "state": {
            "_view_name": "LayoutView",
            "grid_template_rows": null,
            "right": null,
            "justify_content": null,
            "_view_module": "@jupyter-widgets/base",
            "overflow": null,
            "_model_module_version": "1.2.0",
            "_view_count": null,
            "flex_flow": null,
            "width": null,
            "min_width": null,
            "border": null,
            "align_items": null,
            "bottom": null,
            "_model_module": "@jupyter-widgets/base",
            "top": null,
            "grid_column": null,
            "overflow_y": null,
            "overflow_x": null,
            "grid_auto_flow": null,
            "grid_area": null,
            "grid_template_columns": null,
            "flex": null,
            "_model_name": "LayoutModel",
            "justify_items": null,
            "grid_row": null,
            "max_height": null,
            "align_content": null,
            "visibility": null,
            "align_self": null,
            "height": null,
            "min_height": null,
            "padding": null,
            "grid_auto_rows": null,
            "grid_gap": null,
            "max_width": null,
            "order": null,
            "_view_module_version": "1.2.0",
            "grid_template_areas": null,
            "object_position": null,
            "object_fit": null,
            "grid_auto_columns": null,
            "margin": null,
            "display": null,
            "left": null
          }
        },
        "02d3ed60880a4998985bd59244e29e0c": {
          "model_module": "@jupyter-widgets/controls",
          "model_name": "DescriptionStyleModel",
          "state": {
            "_view_name": "StyleView",
            "_model_name": "DescriptionStyleModel",
            "description_width": "",
            "_view_module": "@jupyter-widgets/base",
            "_model_module_version": "1.5.0",
            "_view_count": null,
            "_view_module_version": "1.2.0",
            "_model_module": "@jupyter-widgets/controls"
          }
        },
        "e35e784b9e16468bab8ddcaee4ec25d7": {
          "model_module": "@jupyter-widgets/base",
          "model_name": "LayoutModel",
          "state": {
            "_view_name": "LayoutView",
            "grid_template_rows": null,
            "right": null,
            "justify_content": null,
            "_view_module": "@jupyter-widgets/base",
            "overflow": null,
            "_model_module_version": "1.2.0",
            "_view_count": null,
            "flex_flow": null,
            "width": null,
            "min_width": null,
            "border": null,
            "align_items": null,
            "bottom": null,
            "_model_module": "@jupyter-widgets/base",
            "top": null,
            "grid_column": null,
            "overflow_y": null,
            "overflow_x": null,
            "grid_auto_flow": null,
            "grid_area": null,
            "grid_template_columns": null,
            "flex": null,
            "_model_name": "LayoutModel",
            "justify_items": null,
            "grid_row": null,
            "max_height": null,
            "align_content": null,
            "visibility": null,
            "align_self": null,
            "height": null,
            "min_height": null,
            "padding": null,
            "grid_auto_rows": null,
            "grid_gap": null,
            "max_width": null,
            "order": null,
            "_view_module_version": "1.2.0",
            "grid_template_areas": null,
            "object_position": null,
            "object_fit": null,
            "grid_auto_columns": null,
            "margin": null,
            "display": null,
            "left": null
          }
        },
        "d610745fd3e44bed9c3ee994d7da6db3": {
          "model_module": "@jupyter-widgets/controls",
          "model_name": "HBoxModel",
          "state": {
            "_view_name": "HBoxView",
            "_dom_classes": [],
            "_model_name": "HBoxModel",
            "_view_module": "@jupyter-widgets/controls",
            "_model_module_version": "1.5.0",
            "_view_count": null,
            "_view_module_version": "1.5.0",
            "box_style": "",
            "layout": "IPY_MODEL_c734e651b2ab4e5ca2ef58a8c68357dc",
            "_model_module": "@jupyter-widgets/controls",
            "children": [
              "IPY_MODEL_bc995dcb2a114a0aa07ba8bd7828434f",
              "IPY_MODEL_43769a5b785f4cc1a700d4cdfefd1527"
            ]
          }
        },
        "c734e651b2ab4e5ca2ef58a8c68357dc": {
          "model_module": "@jupyter-widgets/base",
          "model_name": "LayoutModel",
          "state": {
            "_view_name": "LayoutView",
            "grid_template_rows": null,
            "right": null,
            "justify_content": null,
            "_view_module": "@jupyter-widgets/base",
            "overflow": null,
            "_model_module_version": "1.2.0",
            "_view_count": null,
            "flex_flow": null,
            "width": null,
            "min_width": null,
            "border": null,
            "align_items": null,
            "bottom": null,
            "_model_module": "@jupyter-widgets/base",
            "top": null,
            "grid_column": null,
            "overflow_y": null,
            "overflow_x": null,
            "grid_auto_flow": null,
            "grid_area": null,
            "grid_template_columns": null,
            "flex": null,
            "_model_name": "LayoutModel",
            "justify_items": null,
            "grid_row": null,
            "max_height": null,
            "align_content": null,
            "visibility": null,
            "align_self": null,
            "height": null,
            "min_height": null,
            "padding": null,
            "grid_auto_rows": null,
            "grid_gap": null,
            "max_width": null,
            "order": null,
            "_view_module_version": "1.2.0",
            "grid_template_areas": null,
            "object_position": null,
            "object_fit": null,
            "grid_auto_columns": null,
            "margin": null,
            "display": null,
            "left": null
          }
        },
        "bc995dcb2a114a0aa07ba8bd7828434f": {
          "model_module": "@jupyter-widgets/controls",
          "model_name": "IntProgressModel",
          "state": {
            "_view_name": "ProgressView",
            "style": "IPY_MODEL_341e040510e74fae9bc7bde3e4cd1727",
            "_dom_classes": [],
            "description": "",
            "_model_name": "IntProgressModel",
            "bar_style": "success",
            "max": 3,
            "_view_module": "@jupyter-widgets/controls",
            "_model_module_version": "1.5.0",
            "value": 3,
            "_view_count": null,
            "_view_module_version": "1.5.0",
            "orientation": "horizontal",
            "min": 0,
            "description_tooltip": null,
            "_model_module": "@jupyter-widgets/controls",
            "layout": "IPY_MODEL_36f59ce7d6bf4655bd1b3905b4cad32e"
          }
        },
        "43769a5b785f4cc1a700d4cdfefd1527": {
          "model_module": "@jupyter-widgets/controls",
          "model_name": "HTMLModel",
          "state": {
            "_view_name": "HTMLView",
            "style": "IPY_MODEL_5db4c190bb824556bdfd69f74a8e8c29",
            "_dom_classes": [],
            "description": "",
            "_model_name": "HTMLModel",
            "placeholder": "​",
            "_view_module": "@jupyter-widgets/controls",
            "_model_module_version": "1.5.0",
            "value": "100% 3/3 [00:00&lt;00:00, 145.31it/s]",
            "_view_count": null,
            "_view_module_version": "1.5.0",
            "description_tooltip": null,
            "_model_module": "@jupyter-widgets/controls",
            "layout": "IPY_MODEL_83307c8bde1541108690d69e59d87923"
          }
        },
        "341e040510e74fae9bc7bde3e4cd1727": {
          "model_module": "@jupyter-widgets/controls",
          "model_name": "ProgressStyleModel",
          "state": {
            "_view_name": "StyleView",
            "_model_name": "ProgressStyleModel",
            "description_width": "",
            "_view_module": "@jupyter-widgets/base",
            "_model_module_version": "1.5.0",
            "_view_count": null,
            "_view_module_version": "1.2.0",
            "bar_color": null,
            "_model_module": "@jupyter-widgets/controls"
          }
        },
        "36f59ce7d6bf4655bd1b3905b4cad32e": {
          "model_module": "@jupyter-widgets/base",
          "model_name": "LayoutModel",
          "state": {
            "_view_name": "LayoutView",
            "grid_template_rows": null,
            "right": null,
            "justify_content": null,
            "_view_module": "@jupyter-widgets/base",
            "overflow": null,
            "_model_module_version": "1.2.0",
            "_view_count": null,
            "flex_flow": null,
            "width": null,
            "min_width": null,
            "border": null,
            "align_items": null,
            "bottom": null,
            "_model_module": "@jupyter-widgets/base",
            "top": null,
            "grid_column": null,
            "overflow_y": null,
            "overflow_x": null,
            "grid_auto_flow": null,
            "grid_area": null,
            "grid_template_columns": null,
            "flex": null,
            "_model_name": "LayoutModel",
            "justify_items": null,
            "grid_row": null,
            "max_height": null,
            "align_content": null,
            "visibility": null,
            "align_self": null,
            "height": null,
            "min_height": null,
            "padding": null,
            "grid_auto_rows": null,
            "grid_gap": null,
            "max_width": null,
            "order": null,
            "_view_module_version": "1.2.0",
            "grid_template_areas": null,
            "object_position": null,
            "object_fit": null,
            "grid_auto_columns": null,
            "margin": null,
            "display": null,
            "left": null
          }
        },
        "5db4c190bb824556bdfd69f74a8e8c29": {
          "model_module": "@jupyter-widgets/controls",
          "model_name": "DescriptionStyleModel",
          "state": {
            "_view_name": "StyleView",
            "_model_name": "DescriptionStyleModel",
            "description_width": "",
            "_view_module": "@jupyter-widgets/base",
            "_model_module_version": "1.5.0",
            "_view_count": null,
            "_view_module_version": "1.2.0",
            "_model_module": "@jupyter-widgets/controls"
          }
        },
        "83307c8bde1541108690d69e59d87923": {
          "model_module": "@jupyter-widgets/base",
          "model_name": "LayoutModel",
          "state": {
            "_view_name": "LayoutView",
            "grid_template_rows": null,
            "right": null,
            "justify_content": null,
            "_view_module": "@jupyter-widgets/base",
            "overflow": null,
            "_model_module_version": "1.2.0",
            "_view_count": null,
            "flex_flow": null,
            "width": null,
            "min_width": null,
            "border": null,
            "align_items": null,
            "bottom": null,
            "_model_module": "@jupyter-widgets/base",
            "top": null,
            "grid_column": null,
            "overflow_y": null,
            "overflow_x": null,
            "grid_auto_flow": null,
            "grid_area": null,
            "grid_template_columns": null,
            "flex": null,
            "_model_name": "LayoutModel",
            "justify_items": null,
            "grid_row": null,
            "max_height": null,
            "align_content": null,
            "visibility": null,
            "align_self": null,
            "height": null,
            "min_height": null,
            "padding": null,
            "grid_auto_rows": null,
            "grid_gap": null,
            "max_width": null,
            "order": null,
            "_view_module_version": "1.2.0",
            "grid_template_areas": null,
            "object_position": null,
            "object_fit": null,
            "grid_auto_columns": null,
            "margin": null,
            "display": null,
            "left": null
          }
        },
        "69b09274c7f84ec5a4402c23d685461e": {
          "model_module": "@jupyter-widgets/controls",
          "model_name": "HBoxModel",
          "state": {
            "_view_name": "HBoxView",
            "_dom_classes": [],
            "_model_name": "HBoxModel",
            "_view_module": "@jupyter-widgets/controls",
            "_model_module_version": "1.5.0",
            "_view_count": null,
            "_view_module_version": "1.5.0",
            "box_style": "",
            "layout": "IPY_MODEL_42df0a04962b41f6b858b394c24faf27",
            "_model_module": "@jupyter-widgets/controls",
            "children": [
              "IPY_MODEL_b3657b46c230425181a3e742a43b1add",
              "IPY_MODEL_069b6a0429e041b9b4aab770a620e008"
            ]
          }
        },
        "42df0a04962b41f6b858b394c24faf27": {
          "model_module": "@jupyter-widgets/base",
          "model_name": "LayoutModel",
          "state": {
            "_view_name": "LayoutView",
            "grid_template_rows": null,
            "right": null,
            "justify_content": null,
            "_view_module": "@jupyter-widgets/base",
            "overflow": null,
            "_model_module_version": "1.2.0",
            "_view_count": null,
            "flex_flow": null,
            "width": null,
            "min_width": null,
            "border": null,
            "align_items": null,
            "bottom": null,
            "_model_module": "@jupyter-widgets/base",
            "top": null,
            "grid_column": null,
            "overflow_y": null,
            "overflow_x": null,
            "grid_auto_flow": null,
            "grid_area": null,
            "grid_template_columns": null,
            "flex": null,
            "_model_name": "LayoutModel",
            "justify_items": null,
            "grid_row": null,
            "max_height": null,
            "align_content": null,
            "visibility": null,
            "align_self": null,
            "height": null,
            "min_height": null,
            "padding": null,
            "grid_auto_rows": null,
            "grid_gap": null,
            "max_width": null,
            "order": null,
            "_view_module_version": "1.2.0",
            "grid_template_areas": null,
            "object_position": null,
            "object_fit": null,
            "grid_auto_columns": null,
            "margin": null,
            "display": null,
            "left": null
          }
        },
        "b3657b46c230425181a3e742a43b1add": {
          "model_module": "@jupyter-widgets/controls",
          "model_name": "IntProgressModel",
          "state": {
            "_view_name": "ProgressView",
            "style": "IPY_MODEL_96503e7dab814578a8c5dd14f7cd83b0",
            "_dom_classes": [],
            "description": "",
            "_model_name": "IntProgressModel",
            "bar_style": "success",
            "max": 3,
            "_view_module": "@jupyter-widgets/controls",
            "_model_module_version": "1.5.0",
            "value": 3,
            "_view_count": null,
            "_view_module_version": "1.5.0",
            "orientation": "horizontal",
            "min": 0,
            "description_tooltip": null,
            "_model_module": "@jupyter-widgets/controls",
            "layout": "IPY_MODEL_1ad8882a851b4d50b6c99cad40aeb4bd"
          }
        },
        "069b6a0429e041b9b4aab770a620e008": {
          "model_module": "@jupyter-widgets/controls",
          "model_name": "HTMLModel",
          "state": {
            "_view_name": "HTMLView",
            "style": "IPY_MODEL_df593228e65d4c5e902313dfe53b7261",
            "_dom_classes": [],
            "description": "",
            "_model_name": "HTMLModel",
            "placeholder": "​",
            "_view_module": "@jupyter-widgets/controls",
            "_model_module_version": "1.5.0",
            "value": "100% 3/3 [00:00&lt;00:00, 59.19it/s]",
            "_view_count": null,
            "_view_module_version": "1.5.0",
            "description_tooltip": null,
            "_model_module": "@jupyter-widgets/controls",
            "layout": "IPY_MODEL_a767046dc6de42a58f4fded1ddce6ae9"
          }
        },
        "96503e7dab814578a8c5dd14f7cd83b0": {
          "model_module": "@jupyter-widgets/controls",
          "model_name": "ProgressStyleModel",
          "state": {
            "_view_name": "StyleView",
            "_model_name": "ProgressStyleModel",
            "description_width": "",
            "_view_module": "@jupyter-widgets/base",
            "_model_module_version": "1.5.0",
            "_view_count": null,
            "_view_module_version": "1.2.0",
            "bar_color": null,
            "_model_module": "@jupyter-widgets/controls"
          }
        },
        "1ad8882a851b4d50b6c99cad40aeb4bd": {
          "model_module": "@jupyter-widgets/base",
          "model_name": "LayoutModel",
          "state": {
            "_view_name": "LayoutView",
            "grid_template_rows": null,
            "right": null,
            "justify_content": null,
            "_view_module": "@jupyter-widgets/base",
            "overflow": null,
            "_model_module_version": "1.2.0",
            "_view_count": null,
            "flex_flow": null,
            "width": null,
            "min_width": null,
            "border": null,
            "align_items": null,
            "bottom": null,
            "_model_module": "@jupyter-widgets/base",
            "top": null,
            "grid_column": null,
            "overflow_y": null,
            "overflow_x": null,
            "grid_auto_flow": null,
            "grid_area": null,
            "grid_template_columns": null,
            "flex": null,
            "_model_name": "LayoutModel",
            "justify_items": null,
            "grid_row": null,
            "max_height": null,
            "align_content": null,
            "visibility": null,
            "align_self": null,
            "height": null,
            "min_height": null,
            "padding": null,
            "grid_auto_rows": null,
            "grid_gap": null,
            "max_width": null,
            "order": null,
            "_view_module_version": "1.2.0",
            "grid_template_areas": null,
            "object_position": null,
            "object_fit": null,
            "grid_auto_columns": null,
            "margin": null,
            "display": null,
            "left": null
          }
        },
        "df593228e65d4c5e902313dfe53b7261": {
          "model_module": "@jupyter-widgets/controls",
          "model_name": "DescriptionStyleModel",
          "state": {
            "_view_name": "StyleView",
            "_model_name": "DescriptionStyleModel",
            "description_width": "",
            "_view_module": "@jupyter-widgets/base",
            "_model_module_version": "1.5.0",
            "_view_count": null,
            "_view_module_version": "1.2.0",
            "_model_module": "@jupyter-widgets/controls"
          }
        },
        "a767046dc6de42a58f4fded1ddce6ae9": {
          "model_module": "@jupyter-widgets/base",
          "model_name": "LayoutModel",
          "state": {
            "_view_name": "LayoutView",
            "grid_template_rows": null,
            "right": null,
            "justify_content": null,
            "_view_module": "@jupyter-widgets/base",
            "overflow": null,
            "_model_module_version": "1.2.0",
            "_view_count": null,
            "flex_flow": null,
            "width": null,
            "min_width": null,
            "border": null,
            "align_items": null,
            "bottom": null,
            "_model_module": "@jupyter-widgets/base",
            "top": null,
            "grid_column": null,
            "overflow_y": null,
            "overflow_x": null,
            "grid_auto_flow": null,
            "grid_area": null,
            "grid_template_columns": null,
            "flex": null,
            "_model_name": "LayoutModel",
            "justify_items": null,
            "grid_row": null,
            "max_height": null,
            "align_content": null,
            "visibility": null,
            "align_self": null,
            "height": null,
            "min_height": null,
            "padding": null,
            "grid_auto_rows": null,
            "grid_gap": null,
            "max_width": null,
            "order": null,
            "_view_module_version": "1.2.0",
            "grid_template_areas": null,
            "object_position": null,
            "object_fit": null,
            "grid_auto_columns": null,
            "margin": null,
            "display": null,
            "left": null
          }
        },
        "cb6c5c062ac541b1a98de08a180900ac": {
          "model_module": "@jupyter-widgets/controls",
          "model_name": "HBoxModel",
          "state": {
            "_view_name": "HBoxView",
            "_dom_classes": [],
            "_model_name": "HBoxModel",
            "_view_module": "@jupyter-widgets/controls",
            "_model_module_version": "1.5.0",
            "_view_count": null,
            "_view_module_version": "1.5.0",
            "box_style": "",
            "layout": "IPY_MODEL_50bb0cb5d2b34e659d6586f33856aac5",
            "_model_module": "@jupyter-widgets/controls",
            "children": [
              "IPY_MODEL_c51d551670c54d42a11351341a26e5cc",
              "IPY_MODEL_6146d227abff4f0a9c5f75b8f9e17679"
            ]
          }
        },
        "50bb0cb5d2b34e659d6586f33856aac5": {
          "model_module": "@jupyter-widgets/base",
          "model_name": "LayoutModel",
          "state": {
            "_view_name": "LayoutView",
            "grid_template_rows": null,
            "right": null,
            "justify_content": null,
            "_view_module": "@jupyter-widgets/base",
            "overflow": null,
            "_model_module_version": "1.2.0",
            "_view_count": null,
            "flex_flow": null,
            "width": null,
            "min_width": null,
            "border": null,
            "align_items": null,
            "bottom": null,
            "_model_module": "@jupyter-widgets/base",
            "top": null,
            "grid_column": null,
            "overflow_y": null,
            "overflow_x": null,
            "grid_auto_flow": null,
            "grid_area": null,
            "grid_template_columns": null,
            "flex": null,
            "_model_name": "LayoutModel",
            "justify_items": null,
            "grid_row": null,
            "max_height": null,
            "align_content": null,
            "visibility": null,
            "align_self": null,
            "height": null,
            "min_height": null,
            "padding": null,
            "grid_auto_rows": null,
            "grid_gap": null,
            "max_width": null,
            "order": null,
            "_view_module_version": "1.2.0",
            "grid_template_areas": null,
            "object_position": null,
            "object_fit": null,
            "grid_auto_columns": null,
            "margin": null,
            "display": null,
            "left": null
          }
        },
        "c51d551670c54d42a11351341a26e5cc": {
          "model_module": "@jupyter-widgets/controls",
          "model_name": "IntProgressModel",
          "state": {
            "_view_name": "ProgressView",
            "style": "IPY_MODEL_a206558c3cbe47bc846351a7007aed22",
            "_dom_classes": [],
            "description": "",
            "_model_name": "IntProgressModel",
            "bar_style": "success",
            "max": 3,
            "_view_module": "@jupyter-widgets/controls",
            "_model_module_version": "1.5.0",
            "value": 3,
            "_view_count": null,
            "_view_module_version": "1.5.0",
            "orientation": "horizontal",
            "min": 0,
            "description_tooltip": null,
            "_model_module": "@jupyter-widgets/controls",
            "layout": "IPY_MODEL_7eec623dc5374a64888d7ca4536e18d4"
          }
        },
        "6146d227abff4f0a9c5f75b8f9e17679": {
          "model_module": "@jupyter-widgets/controls",
          "model_name": "HTMLModel",
          "state": {
            "_view_name": "HTMLView",
            "style": "IPY_MODEL_72258a1a5ee34474920498a4b6bdb2fd",
            "_dom_classes": [],
            "description": "",
            "_model_name": "HTMLModel",
            "placeholder": "​",
            "_view_module": "@jupyter-widgets/controls",
            "_model_module_version": "1.5.0",
            "value": "100% 3/3 [00:00&lt;00:00, 180.84it/s]",
            "_view_count": null,
            "_view_module_version": "1.5.0",
            "description_tooltip": null,
            "_model_module": "@jupyter-widgets/controls",
            "layout": "IPY_MODEL_faca8b1e1d99473f8bfe692f8550ca85"
          }
        },
        "a206558c3cbe47bc846351a7007aed22": {
          "model_module": "@jupyter-widgets/controls",
          "model_name": "ProgressStyleModel",
          "state": {
            "_view_name": "StyleView",
            "_model_name": "ProgressStyleModel",
            "description_width": "",
            "_view_module": "@jupyter-widgets/base",
            "_model_module_version": "1.5.0",
            "_view_count": null,
            "_view_module_version": "1.2.0",
            "bar_color": null,
            "_model_module": "@jupyter-widgets/controls"
          }
        },
        "7eec623dc5374a64888d7ca4536e18d4": {
          "model_module": "@jupyter-widgets/base",
          "model_name": "LayoutModel",
          "state": {
            "_view_name": "LayoutView",
            "grid_template_rows": null,
            "right": null,
            "justify_content": null,
            "_view_module": "@jupyter-widgets/base",
            "overflow": null,
            "_model_module_version": "1.2.0",
            "_view_count": null,
            "flex_flow": null,
            "width": null,
            "min_width": null,
            "border": null,
            "align_items": null,
            "bottom": null,
            "_model_module": "@jupyter-widgets/base",
            "top": null,
            "grid_column": null,
            "overflow_y": null,
            "overflow_x": null,
            "grid_auto_flow": null,
            "grid_area": null,
            "grid_template_columns": null,
            "flex": null,
            "_model_name": "LayoutModel",
            "justify_items": null,
            "grid_row": null,
            "max_height": null,
            "align_content": null,
            "visibility": null,
            "align_self": null,
            "height": null,
            "min_height": null,
            "padding": null,
            "grid_auto_rows": null,
            "grid_gap": null,
            "max_width": null,
            "order": null,
            "_view_module_version": "1.2.0",
            "grid_template_areas": null,
            "object_position": null,
            "object_fit": null,
            "grid_auto_columns": null,
            "margin": null,
            "display": null,
            "left": null
          }
        },
        "72258a1a5ee34474920498a4b6bdb2fd": {
          "model_module": "@jupyter-widgets/controls",
          "model_name": "DescriptionStyleModel",
          "state": {
            "_view_name": "StyleView",
            "_model_name": "DescriptionStyleModel",
            "description_width": "",
            "_view_module": "@jupyter-widgets/base",
            "_model_module_version": "1.5.0",
            "_view_count": null,
            "_view_module_version": "1.2.0",
            "_model_module": "@jupyter-widgets/controls"
          }
        },
        "faca8b1e1d99473f8bfe692f8550ca85": {
          "model_module": "@jupyter-widgets/base",
          "model_name": "LayoutModel",
          "state": {
            "_view_name": "LayoutView",
            "grid_template_rows": null,
            "right": null,
            "justify_content": null,
            "_view_module": "@jupyter-widgets/base",
            "overflow": null,
            "_model_module_version": "1.2.0",
            "_view_count": null,
            "flex_flow": null,
            "width": null,
            "min_width": null,
            "border": null,
            "align_items": null,
            "bottom": null,
            "_model_module": "@jupyter-widgets/base",
            "top": null,
            "grid_column": null,
            "overflow_y": null,
            "overflow_x": null,
            "grid_auto_flow": null,
            "grid_area": null,
            "grid_template_columns": null,
            "flex": null,
            "_model_name": "LayoutModel",
            "justify_items": null,
            "grid_row": null,
            "max_height": null,
            "align_content": null,
            "visibility": null,
            "align_self": null,
            "height": null,
            "min_height": null,
            "padding": null,
            "grid_auto_rows": null,
            "grid_gap": null,
            "max_width": null,
            "order": null,
            "_view_module_version": "1.2.0",
            "grid_template_areas": null,
            "object_position": null,
            "object_fit": null,
            "grid_auto_columns": null,
            "margin": null,
            "display": null,
            "left": null
          }
        },
        "0ecafb72d0b34e728ea572f944fd7f79": {
          "model_module": "@jupyter-widgets/controls",
          "model_name": "HBoxModel",
          "state": {
            "_view_name": "HBoxView",
            "_dom_classes": [],
            "_model_name": "HBoxModel",
            "_view_module": "@jupyter-widgets/controls",
            "_model_module_version": "1.5.0",
            "_view_count": null,
            "_view_module_version": "1.5.0",
            "box_style": "",
            "layout": "IPY_MODEL_4bf31f0f4df64a65a365d8fd6525096a",
            "_model_module": "@jupyter-widgets/controls",
            "children": [
              "IPY_MODEL_40a21affe68d437d905bff1fdeb6fac7",
              "IPY_MODEL_4ac34ef2331441adb5494cd06ee1cbe2"
            ]
          }
        },
        "4bf31f0f4df64a65a365d8fd6525096a": {
          "model_module": "@jupyter-widgets/base",
          "model_name": "LayoutModel",
          "state": {
            "_view_name": "LayoutView",
            "grid_template_rows": null,
            "right": null,
            "justify_content": null,
            "_view_module": "@jupyter-widgets/base",
            "overflow": null,
            "_model_module_version": "1.2.0",
            "_view_count": null,
            "flex_flow": null,
            "width": null,
            "min_width": null,
            "border": null,
            "align_items": null,
            "bottom": null,
            "_model_module": "@jupyter-widgets/base",
            "top": null,
            "grid_column": null,
            "overflow_y": null,
            "overflow_x": null,
            "grid_auto_flow": null,
            "grid_area": null,
            "grid_template_columns": null,
            "flex": null,
            "_model_name": "LayoutModel",
            "justify_items": null,
            "grid_row": null,
            "max_height": null,
            "align_content": null,
            "visibility": null,
            "align_self": null,
            "height": null,
            "min_height": null,
            "padding": null,
            "grid_auto_rows": null,
            "grid_gap": null,
            "max_width": null,
            "order": null,
            "_view_module_version": "1.2.0",
            "grid_template_areas": null,
            "object_position": null,
            "object_fit": null,
            "grid_auto_columns": null,
            "margin": null,
            "display": null,
            "left": null
          }
        },
        "40a21affe68d437d905bff1fdeb6fac7": {
          "model_module": "@jupyter-widgets/controls",
          "model_name": "IntProgressModel",
          "state": {
            "_view_name": "ProgressView",
            "style": "IPY_MODEL_695d4226d6a245289e076a138475d5fe",
            "_dom_classes": [],
            "description": "",
            "_model_name": "IntProgressModel",
            "bar_style": "success",
            "max": 3,
            "_view_module": "@jupyter-widgets/controls",
            "_model_module_version": "1.5.0",
            "value": 3,
            "_view_count": null,
            "_view_module_version": "1.5.0",
            "orientation": "horizontal",
            "min": 0,
            "description_tooltip": null,
            "_model_module": "@jupyter-widgets/controls",
            "layout": "IPY_MODEL_a7071ddede3f4189a6506686a98f6b02"
          }
        },
        "4ac34ef2331441adb5494cd06ee1cbe2": {
          "model_module": "@jupyter-widgets/controls",
          "model_name": "HTMLModel",
          "state": {
            "_view_name": "HTMLView",
            "style": "IPY_MODEL_ebeb46a10b08417e936714b9de158ef6",
            "_dom_classes": [],
            "description": "",
            "_model_name": "HTMLModel",
            "placeholder": "​",
            "_view_module": "@jupyter-widgets/controls",
            "_model_module_version": "1.5.0",
            "value": "100% 3/3 [00:00&lt;00:00, 63.06it/s]",
            "_view_count": null,
            "_view_module_version": "1.5.0",
            "description_tooltip": null,
            "_model_module": "@jupyter-widgets/controls",
            "layout": "IPY_MODEL_4a56acce58504d509df8a67bd3ee9f2e"
          }
        },
        "695d4226d6a245289e076a138475d5fe": {
          "model_module": "@jupyter-widgets/controls",
          "model_name": "ProgressStyleModel",
          "state": {
            "_view_name": "StyleView",
            "_model_name": "ProgressStyleModel",
            "description_width": "",
            "_view_module": "@jupyter-widgets/base",
            "_model_module_version": "1.5.0",
            "_view_count": null,
            "_view_module_version": "1.2.0",
            "bar_color": null,
            "_model_module": "@jupyter-widgets/controls"
          }
        },
        "a7071ddede3f4189a6506686a98f6b02": {
          "model_module": "@jupyter-widgets/base",
          "model_name": "LayoutModel",
          "state": {
            "_view_name": "LayoutView",
            "grid_template_rows": null,
            "right": null,
            "justify_content": null,
            "_view_module": "@jupyter-widgets/base",
            "overflow": null,
            "_model_module_version": "1.2.0",
            "_view_count": null,
            "flex_flow": null,
            "width": null,
            "min_width": null,
            "border": null,
            "align_items": null,
            "bottom": null,
            "_model_module": "@jupyter-widgets/base",
            "top": null,
            "grid_column": null,
            "overflow_y": null,
            "overflow_x": null,
            "grid_auto_flow": null,
            "grid_area": null,
            "grid_template_columns": null,
            "flex": null,
            "_model_name": "LayoutModel",
            "justify_items": null,
            "grid_row": null,
            "max_height": null,
            "align_content": null,
            "visibility": null,
            "align_self": null,
            "height": null,
            "min_height": null,
            "padding": null,
            "grid_auto_rows": null,
            "grid_gap": null,
            "max_width": null,
            "order": null,
            "_view_module_version": "1.2.0",
            "grid_template_areas": null,
            "object_position": null,
            "object_fit": null,
            "grid_auto_columns": null,
            "margin": null,
            "display": null,
            "left": null
          }
        },
        "ebeb46a10b08417e936714b9de158ef6": {
          "model_module": "@jupyter-widgets/controls",
          "model_name": "DescriptionStyleModel",
          "state": {
            "_view_name": "StyleView",
            "_model_name": "DescriptionStyleModel",
            "description_width": "",
            "_view_module": "@jupyter-widgets/base",
            "_model_module_version": "1.5.0",
            "_view_count": null,
            "_view_module_version": "1.2.0",
            "_model_module": "@jupyter-widgets/controls"
          }
        },
        "4a56acce58504d509df8a67bd3ee9f2e": {
          "model_module": "@jupyter-widgets/base",
          "model_name": "LayoutModel",
          "state": {
            "_view_name": "LayoutView",
            "grid_template_rows": null,
            "right": null,
            "justify_content": null,
            "_view_module": "@jupyter-widgets/base",
            "overflow": null,
            "_model_module_version": "1.2.0",
            "_view_count": null,
            "flex_flow": null,
            "width": null,
            "min_width": null,
            "border": null,
            "align_items": null,
            "bottom": null,
            "_model_module": "@jupyter-widgets/base",
            "top": null,
            "grid_column": null,
            "overflow_y": null,
            "overflow_x": null,
            "grid_auto_flow": null,
            "grid_area": null,
            "grid_template_columns": null,
            "flex": null,
            "_model_name": "LayoutModel",
            "justify_items": null,
            "grid_row": null,
            "max_height": null,
            "align_content": null,
            "visibility": null,
            "align_self": null,
            "height": null,
            "min_height": null,
            "padding": null,
            "grid_auto_rows": null,
            "grid_gap": null,
            "max_width": null,
            "order": null,
            "_view_module_version": "1.2.0",
            "grid_template_areas": null,
            "object_position": null,
            "object_fit": null,
            "grid_auto_columns": null,
            "margin": null,
            "display": null,
            "left": null
          }
        },
        "a1b8bf68e7b444938fd97d93a30b17c0": {
          "model_module": "@jupyter-widgets/controls",
          "model_name": "HBoxModel",
          "state": {
            "_view_name": "HBoxView",
            "_dom_classes": [],
            "_model_name": "HBoxModel",
            "_view_module": "@jupyter-widgets/controls",
            "_model_module_version": "1.5.0",
            "_view_count": null,
            "_view_module_version": "1.5.0",
            "box_style": "",
            "layout": "IPY_MODEL_9fdfc304035440f89ae4d28725fef531",
            "_model_module": "@jupyter-widgets/controls",
            "children": [
              "IPY_MODEL_a4677d9db080434095fe6843d28137e0",
              "IPY_MODEL_261d3cf2641b451c88c31d27a54c82ce"
            ]
          }
        },
        "9fdfc304035440f89ae4d28725fef531": {
          "model_module": "@jupyter-widgets/base",
          "model_name": "LayoutModel",
          "state": {
            "_view_name": "LayoutView",
            "grid_template_rows": null,
            "right": null,
            "justify_content": null,
            "_view_module": "@jupyter-widgets/base",
            "overflow": null,
            "_model_module_version": "1.2.0",
            "_view_count": null,
            "flex_flow": null,
            "width": null,
            "min_width": null,
            "border": null,
            "align_items": null,
            "bottom": null,
            "_model_module": "@jupyter-widgets/base",
            "top": null,
            "grid_column": null,
            "overflow_y": null,
            "overflow_x": null,
            "grid_auto_flow": null,
            "grid_area": null,
            "grid_template_columns": null,
            "flex": null,
            "_model_name": "LayoutModel",
            "justify_items": null,
            "grid_row": null,
            "max_height": null,
            "align_content": null,
            "visibility": null,
            "align_self": null,
            "height": null,
            "min_height": null,
            "padding": null,
            "grid_auto_rows": null,
            "grid_gap": null,
            "max_width": null,
            "order": null,
            "_view_module_version": "1.2.0",
            "grid_template_areas": null,
            "object_position": null,
            "object_fit": null,
            "grid_auto_columns": null,
            "margin": null,
            "display": null,
            "left": null
          }
        },
        "a4677d9db080434095fe6843d28137e0": {
          "model_module": "@jupyter-widgets/controls",
          "model_name": "IntProgressModel",
          "state": {
            "_view_name": "ProgressView",
            "style": "IPY_MODEL_46287c0d1dcd4b528d2184666b3a7d07",
            "_dom_classes": [],
            "description": "",
            "_model_name": "IntProgressModel",
            "bar_style": "success",
            "max": 3,
            "_view_module": "@jupyter-widgets/controls",
            "_model_module_version": "1.5.0",
            "value": 3,
            "_view_count": null,
            "_view_module_version": "1.5.0",
            "orientation": "horizontal",
            "min": 0,
            "description_tooltip": null,
            "_model_module": "@jupyter-widgets/controls",
            "layout": "IPY_MODEL_789b773f82f04ec690d28a0b109694b1"
          }
        },
        "261d3cf2641b451c88c31d27a54c82ce": {
          "model_module": "@jupyter-widgets/controls",
          "model_name": "HTMLModel",
          "state": {
            "_view_name": "HTMLView",
            "style": "IPY_MODEL_f4aac57319d04d1382fff53659af7556",
            "_dom_classes": [],
            "description": "",
            "_model_name": "HTMLModel",
            "placeholder": "​",
            "_view_module": "@jupyter-widgets/controls",
            "_model_module_version": "1.5.0",
            "value": "100% 3/3 [00:00&lt;00:00, 166.97it/s]",
            "_view_count": null,
            "_view_module_version": "1.5.0",
            "description_tooltip": null,
            "_model_module": "@jupyter-widgets/controls",
            "layout": "IPY_MODEL_e1475618122043f998ba7188457b2b7d"
          }
        },
        "46287c0d1dcd4b528d2184666b3a7d07": {
          "model_module": "@jupyter-widgets/controls",
          "model_name": "ProgressStyleModel",
          "state": {
            "_view_name": "StyleView",
            "_model_name": "ProgressStyleModel",
            "description_width": "",
            "_view_module": "@jupyter-widgets/base",
            "_model_module_version": "1.5.0",
            "_view_count": null,
            "_view_module_version": "1.2.0",
            "bar_color": null,
            "_model_module": "@jupyter-widgets/controls"
          }
        },
        "789b773f82f04ec690d28a0b109694b1": {
          "model_module": "@jupyter-widgets/base",
          "model_name": "LayoutModel",
          "state": {
            "_view_name": "LayoutView",
            "grid_template_rows": null,
            "right": null,
            "justify_content": null,
            "_view_module": "@jupyter-widgets/base",
            "overflow": null,
            "_model_module_version": "1.2.0",
            "_view_count": null,
            "flex_flow": null,
            "width": null,
            "min_width": null,
            "border": null,
            "align_items": null,
            "bottom": null,
            "_model_module": "@jupyter-widgets/base",
            "top": null,
            "grid_column": null,
            "overflow_y": null,
            "overflow_x": null,
            "grid_auto_flow": null,
            "grid_area": null,
            "grid_template_columns": null,
            "flex": null,
            "_model_name": "LayoutModel",
            "justify_items": null,
            "grid_row": null,
            "max_height": null,
            "align_content": null,
            "visibility": null,
            "align_self": null,
            "height": null,
            "min_height": null,
            "padding": null,
            "grid_auto_rows": null,
            "grid_gap": null,
            "max_width": null,
            "order": null,
            "_view_module_version": "1.2.0",
            "grid_template_areas": null,
            "object_position": null,
            "object_fit": null,
            "grid_auto_columns": null,
            "margin": null,
            "display": null,
            "left": null
          }
        },
        "f4aac57319d04d1382fff53659af7556": {
          "model_module": "@jupyter-widgets/controls",
          "model_name": "DescriptionStyleModel",
          "state": {
            "_view_name": "StyleView",
            "_model_name": "DescriptionStyleModel",
            "description_width": "",
            "_view_module": "@jupyter-widgets/base",
            "_model_module_version": "1.5.0",
            "_view_count": null,
            "_view_module_version": "1.2.0",
            "_model_module": "@jupyter-widgets/controls"
          }
        },
        "e1475618122043f998ba7188457b2b7d": {
          "model_module": "@jupyter-widgets/base",
          "model_name": "LayoutModel",
          "state": {
            "_view_name": "LayoutView",
            "grid_template_rows": null,
            "right": null,
            "justify_content": null,
            "_view_module": "@jupyter-widgets/base",
            "overflow": null,
            "_model_module_version": "1.2.0",
            "_view_count": null,
            "flex_flow": null,
            "width": null,
            "min_width": null,
            "border": null,
            "align_items": null,
            "bottom": null,
            "_model_module": "@jupyter-widgets/base",
            "top": null,
            "grid_column": null,
            "overflow_y": null,
            "overflow_x": null,
            "grid_auto_flow": null,
            "grid_area": null,
            "grid_template_columns": null,
            "flex": null,
            "_model_name": "LayoutModel",
            "justify_items": null,
            "grid_row": null,
            "max_height": null,
            "align_content": null,
            "visibility": null,
            "align_self": null,
            "height": null,
            "min_height": null,
            "padding": null,
            "grid_auto_rows": null,
            "grid_gap": null,
            "max_width": null,
            "order": null,
            "_view_module_version": "1.2.0",
            "grid_template_areas": null,
            "object_position": null,
            "object_fit": null,
            "grid_auto_columns": null,
            "margin": null,
            "display": null,
            "left": null
          }
        },
        "f50b2973fc794daa8b6447147e3604c7": {
          "model_module": "@jupyter-widgets/controls",
          "model_name": "HBoxModel",
          "state": {
            "_view_name": "HBoxView",
            "_dom_classes": [],
            "_model_name": "HBoxModel",
            "_view_module": "@jupyter-widgets/controls",
            "_model_module_version": "1.5.0",
            "_view_count": null,
            "_view_module_version": "1.5.0",
            "box_style": "",
            "layout": "IPY_MODEL_c3f894bc6b374a4b911cd05807688fda",
            "_model_module": "@jupyter-widgets/controls",
            "children": [
              "IPY_MODEL_78ae8e60437e4da88b1702b6f8248ce4",
              "IPY_MODEL_ae1915470bf2454b8094222f9956a833"
            ]
          }
        },
        "c3f894bc6b374a4b911cd05807688fda": {
          "model_module": "@jupyter-widgets/base",
          "model_name": "LayoutModel",
          "state": {
            "_view_name": "LayoutView",
            "grid_template_rows": null,
            "right": null,
            "justify_content": null,
            "_view_module": "@jupyter-widgets/base",
            "overflow": null,
            "_model_module_version": "1.2.0",
            "_view_count": null,
            "flex_flow": null,
            "width": null,
            "min_width": null,
            "border": null,
            "align_items": null,
            "bottom": null,
            "_model_module": "@jupyter-widgets/base",
            "top": null,
            "grid_column": null,
            "overflow_y": null,
            "overflow_x": null,
            "grid_auto_flow": null,
            "grid_area": null,
            "grid_template_columns": null,
            "flex": null,
            "_model_name": "LayoutModel",
            "justify_items": null,
            "grid_row": null,
            "max_height": null,
            "align_content": null,
            "visibility": null,
            "align_self": null,
            "height": null,
            "min_height": null,
            "padding": null,
            "grid_auto_rows": null,
            "grid_gap": null,
            "max_width": null,
            "order": null,
            "_view_module_version": "1.2.0",
            "grid_template_areas": null,
            "object_position": null,
            "object_fit": null,
            "grid_auto_columns": null,
            "margin": null,
            "display": null,
            "left": null
          }
        },
        "78ae8e60437e4da88b1702b6f8248ce4": {
          "model_module": "@jupyter-widgets/controls",
          "model_name": "IntProgressModel",
          "state": {
            "_view_name": "ProgressView",
            "style": "IPY_MODEL_b349f99694d34400846170b61d7b6949",
            "_dom_classes": [],
            "description": "",
            "_model_name": "IntProgressModel",
            "bar_style": "success",
            "max": 3,
            "_view_module": "@jupyter-widgets/controls",
            "_model_module_version": "1.5.0",
            "value": 3,
            "_view_count": null,
            "_view_module_version": "1.5.0",
            "orientation": "horizontal",
            "min": 0,
            "description_tooltip": null,
            "_model_module": "@jupyter-widgets/controls",
            "layout": "IPY_MODEL_fd4daa19da344cbf9a23dbb7edcfe3af"
          }
        },
        "ae1915470bf2454b8094222f9956a833": {
          "model_module": "@jupyter-widgets/controls",
          "model_name": "HTMLModel",
          "state": {
            "_view_name": "HTMLView",
            "style": "IPY_MODEL_e26bbf5b84c44fc09bda27013d0241a5",
            "_dom_classes": [],
            "description": "",
            "_model_name": "HTMLModel",
            "placeholder": "​",
            "_view_module": "@jupyter-widgets/controls",
            "_model_module_version": "1.5.0",
            "value": "100% 3/3 [00:00&lt;00:00, 60.86it/s]",
            "_view_count": null,
            "_view_module_version": "1.5.0",
            "description_tooltip": null,
            "_model_module": "@jupyter-widgets/controls",
            "layout": "IPY_MODEL_d96674224406433a9345e2537cac8654"
          }
        },
        "b349f99694d34400846170b61d7b6949": {
          "model_module": "@jupyter-widgets/controls",
          "model_name": "ProgressStyleModel",
          "state": {
            "_view_name": "StyleView",
            "_model_name": "ProgressStyleModel",
            "description_width": "",
            "_view_module": "@jupyter-widgets/base",
            "_model_module_version": "1.5.0",
            "_view_count": null,
            "_view_module_version": "1.2.0",
            "bar_color": null,
            "_model_module": "@jupyter-widgets/controls"
          }
        },
        "fd4daa19da344cbf9a23dbb7edcfe3af": {
          "model_module": "@jupyter-widgets/base",
          "model_name": "LayoutModel",
          "state": {
            "_view_name": "LayoutView",
            "grid_template_rows": null,
            "right": null,
            "justify_content": null,
            "_view_module": "@jupyter-widgets/base",
            "overflow": null,
            "_model_module_version": "1.2.0",
            "_view_count": null,
            "flex_flow": null,
            "width": null,
            "min_width": null,
            "border": null,
            "align_items": null,
            "bottom": null,
            "_model_module": "@jupyter-widgets/base",
            "top": null,
            "grid_column": null,
            "overflow_y": null,
            "overflow_x": null,
            "grid_auto_flow": null,
            "grid_area": null,
            "grid_template_columns": null,
            "flex": null,
            "_model_name": "LayoutModel",
            "justify_items": null,
            "grid_row": null,
            "max_height": null,
            "align_content": null,
            "visibility": null,
            "align_self": null,
            "height": null,
            "min_height": null,
            "padding": null,
            "grid_auto_rows": null,
            "grid_gap": null,
            "max_width": null,
            "order": null,
            "_view_module_version": "1.2.0",
            "grid_template_areas": null,
            "object_position": null,
            "object_fit": null,
            "grid_auto_columns": null,
            "margin": null,
            "display": null,
            "left": null
          }
        },
        "e26bbf5b84c44fc09bda27013d0241a5": {
          "model_module": "@jupyter-widgets/controls",
          "model_name": "DescriptionStyleModel",
          "state": {
            "_view_name": "StyleView",
            "_model_name": "DescriptionStyleModel",
            "description_width": "",
            "_view_module": "@jupyter-widgets/base",
            "_model_module_version": "1.5.0",
            "_view_count": null,
            "_view_module_version": "1.2.0",
            "_model_module": "@jupyter-widgets/controls"
          }
        },
        "d96674224406433a9345e2537cac8654": {
          "model_module": "@jupyter-widgets/base",
          "model_name": "LayoutModel",
          "state": {
            "_view_name": "LayoutView",
            "grid_template_rows": null,
            "right": null,
            "justify_content": null,
            "_view_module": "@jupyter-widgets/base",
            "overflow": null,
            "_model_module_version": "1.2.0",
            "_view_count": null,
            "flex_flow": null,
            "width": null,
            "min_width": null,
            "border": null,
            "align_items": null,
            "bottom": null,
            "_model_module": "@jupyter-widgets/base",
            "top": null,
            "grid_column": null,
            "overflow_y": null,
            "overflow_x": null,
            "grid_auto_flow": null,
            "grid_area": null,
            "grid_template_columns": null,
            "flex": null,
            "_model_name": "LayoutModel",
            "justify_items": null,
            "grid_row": null,
            "max_height": null,
            "align_content": null,
            "visibility": null,
            "align_self": null,
            "height": null,
            "min_height": null,
            "padding": null,
            "grid_auto_rows": null,
            "grid_gap": null,
            "max_width": null,
            "order": null,
            "_view_module_version": "1.2.0",
            "grid_template_areas": null,
            "object_position": null,
            "object_fit": null,
            "grid_auto_columns": null,
            "margin": null,
            "display": null,
            "left": null
          }
        }
      }
    }
  },
  "cells": [
    {
      "cell_type": "markdown",
      "metadata": {
        "id": "view-in-github",
        "colab_type": "text"
      },
      "source": [
        "<a href=\"https://colab.research.google.com/github/mrinmoykundu/Bengali-AI_Grapheme_Project/blob/master/Bengali_AI_(Updated)(MyCopy).ipynb\" target=\"_parent\"><img src=\"https://colab.research.google.com/assets/colab-badge.svg\" alt=\"Open In Colab\"/></a>"
      ]
    },
    {
      "cell_type": "markdown",
      "metadata": {
        "id": "YR7vfHKK6uUB",
        "colab_type": "text"
      },
      "source": [
        "## Accessing the data from cloud\n",
        "Press Ctrl+Shift+i and then click on console and type:\n",
        "\n",
        "function ClickConnect(){\n",
        "console.log(\"Working\"); \n",
        "document.querySelector(\"colab-toolbar-button#connect\").click() \n",
        "}\n",
        "setInterval(ClickConnect,60000)\n",
        "\n",
        "to prevent the runtime from disconnecting. (Not sure if it works though)\n"
      ]
    },
    {
      "cell_type": "markdown",
      "metadata": {
        "id": "JoePRUL4-HZz",
        "colab_type": "text"
      },
      "source": [
        "Drive Data :https://drive.google.com/open?id=1SVLfASfRpJZ5HwU5IyVXVVWLsxvbLiP6"
      ]
    },
    {
      "cell_type": "markdown",
      "metadata": {
        "id": "eVgtTTNcCWCw",
        "colab_type": "text"
      },
      "source": [
        "## Downloading Data from Kaggle (For reference only)\n",
        "Use Google Drive to access data for Bengali AI, as shown below"
      ]
    },
    {
      "cell_type": "code",
      "metadata": {
        "id": "JR_U6b-DsMdF",
        "colab_type": "code",
        "colab": {}
      },
      "source": [
        "#!mkdir ~/.kaggle\n",
        "#After this, upload your kaggle token\n"
      ],
      "execution_count": 0,
      "outputs": []
    },
    {
      "cell_type": "code",
      "metadata": {
        "id": "2NL5jMcgvvcc",
        "colab_type": "code",
        "colab": {}
      },
      "source": [
        "#!cp kaggle.json ~/.kaggle/\n",
        "#!chmod 600 ~/.kaggle/kaggle.json\n",
        "#!kaggle competitions download -c bengaliai-cv19"
      ],
      "execution_count": 0,
      "outputs": []
    },
    {
      "cell_type": "markdown",
      "metadata": {
        "id": "sHioB0H5CrCn",
        "colab_type": "text"
      },
      "source": [
        "##Google Drive Data accessing (Recommended process)"
      ]
    },
    {
      "cell_type": "code",
      "metadata": {
        "id": "c2exWl5XwDP0",
        "colab_type": "code",
        "outputId": "023b93bb-ef76-4433-9b71-a506d699e79f",
        "colab": {
          "base_uri": "https://localhost:8080/",
          "height": 128
        }
      },
      "source": [
        "# For accessing Google Drive via Colab\n",
        "from google.colab import drive\n",
        "drive.mount(\"/content/gdrive\")"
      ],
      "execution_count": 0,
      "outputs": [
        {
          "output_type": "stream",
          "text": [
            "Go to this URL in a browser: https://accounts.google.com/o/oauth2/auth?client_id=947318989803-6bn6qk8qdgf4n4g3pfee6491hc0brc4i.apps.googleusercontent.com&redirect_uri=urn%3aietf%3awg%3aoauth%3a2.0%3aoob&response_type=code&scope=email%20https%3a%2f%2fwww.googleapis.com%2fauth%2fdocs.test%20https%3a%2f%2fwww.googleapis.com%2fauth%2fdrive%20https%3a%2f%2fwww.googleapis.com%2fauth%2fdrive.photos.readonly%20https%3a%2f%2fwww.googleapis.com%2fauth%2fpeopleapi.readonly\n",
            "\n",
            "Enter your authorization code:\n",
            "··········\n",
            "Mounted at /content/gdrive\n"
          ],
          "name": "stdout"
        }
      ]
    },
    {
      "cell_type": "markdown",
      "metadata": {
        "id": "_zdYQjA8ES9M",
        "colab_type": "text"
      },
      "source": [
        ""
      ]
    },
    {
      "cell_type": "markdown",
      "metadata": {
        "id": "yWt74_d1aXWV",
        "colab_type": "text"
      },
      "source": [
        "# Importing library"
      ]
    },
    {
      "cell_type": "code",
      "metadata": {
        "id": "ZLurKM08aeA2",
        "colab_type": "code",
        "colab": {}
      },
      "source": [
        "import numpy as np \n",
        "import pandas as pd\n",
        "import PIL.Image as Image, PIL.ImageDraw as ImageDraw, PIL.ImageFont as ImageFont\n",
        "\n",
        "import plotly.graph_objects as go\n",
        "import matplotlib.pyplot as plt"
      ],
      "execution_count": 0,
      "outputs": []
    },
    {
      "cell_type": "code",
      "metadata": {
        "id": "gt9OEiElajN9",
        "colab_type": "code",
        "colab": {}
      },
      "source": [
        "import torch\n",
        "import torch.nn as nn\n",
        "from torch.utils.data import Dataset,DataLoader\n",
        "import torchvision"
      ],
      "execution_count": 0,
      "outputs": []
    },
    {
      "cell_type": "markdown",
      "metadata": {
        "id": "cP0F80TBIX_A",
        "colab_type": "text"
      },
      "source": [
        "# Loading data"
      ]
    },
    {
      "cell_type": "markdown",
      "metadata": {
        "id": "EvroWdam9PVc",
        "colab_type": "text"
      },
      "source": [
        "## Loading train_df, test_df and class_map_df"
      ]
    },
    {
      "cell_type": "code",
      "metadata": {
        "id": "0F-kz4BGwRwL",
        "colab_type": "code",
        "colab": {}
      },
      "source": [
        "train_df_ = pd.read_csv('/content/gdrive/My Drive/Bengali_AI_data/train.csv')\n",
        "test_df_ = pd.read_csv('/content/gdrive/My Drive/Bengali_AI_data/test.csv')\n",
        "class_map_df = pd.read_csv('/content/gdrive/My Drive/Bengali_AI_data/class_map.csv')\n",
        "sample_sub_df = pd.read_csv('/content/gdrive/My Drive/Bengali_AI_data/sample_submission.csv')"
      ],
      "execution_count": 0,
      "outputs": []
    },
    {
      "cell_type": "code",
      "metadata": {
        "id": "09BX2F9cxTF-",
        "colab_type": "code",
        "outputId": "b094160c-fb48-41d6-c289-fc68e03511e0",
        "colab": {
          "base_uri": "https://localhost:8080/",
          "height": 206
        }
      },
      "source": [
        "train_df_.head()"
      ],
      "execution_count": 0,
      "outputs": [
        {
          "output_type": "execute_result",
          "data": {
            "text/html": [
              "<div>\n",
              "<style scoped>\n",
              "    .dataframe tbody tr th:only-of-type {\n",
              "        vertical-align: middle;\n",
              "    }\n",
              "\n",
              "    .dataframe tbody tr th {\n",
              "        vertical-align: top;\n",
              "    }\n",
              "\n",
              "    .dataframe thead th {\n",
              "        text-align: right;\n",
              "    }\n",
              "</style>\n",
              "<table border=\"1\" class=\"dataframe\">\n",
              "  <thead>\n",
              "    <tr style=\"text-align: right;\">\n",
              "      <th></th>\n",
              "      <th>image_id</th>\n",
              "      <th>grapheme_root</th>\n",
              "      <th>vowel_diacritic</th>\n",
              "      <th>consonant_diacritic</th>\n",
              "      <th>grapheme</th>\n",
              "    </tr>\n",
              "  </thead>\n",
              "  <tbody>\n",
              "    <tr>\n",
              "      <th>0</th>\n",
              "      <td>Train_0</td>\n",
              "      <td>15</td>\n",
              "      <td>9</td>\n",
              "      <td>5</td>\n",
              "      <td>ক্ট্রো</td>\n",
              "    </tr>\n",
              "    <tr>\n",
              "      <th>1</th>\n",
              "      <td>Train_1</td>\n",
              "      <td>159</td>\n",
              "      <td>0</td>\n",
              "      <td>0</td>\n",
              "      <td>হ</td>\n",
              "    </tr>\n",
              "    <tr>\n",
              "      <th>2</th>\n",
              "      <td>Train_2</td>\n",
              "      <td>22</td>\n",
              "      <td>3</td>\n",
              "      <td>5</td>\n",
              "      <td>খ্রী</td>\n",
              "    </tr>\n",
              "    <tr>\n",
              "      <th>3</th>\n",
              "      <td>Train_3</td>\n",
              "      <td>53</td>\n",
              "      <td>2</td>\n",
              "      <td>2</td>\n",
              "      <td>র্টি</td>\n",
              "    </tr>\n",
              "    <tr>\n",
              "      <th>4</th>\n",
              "      <td>Train_4</td>\n",
              "      <td>71</td>\n",
              "      <td>9</td>\n",
              "      <td>5</td>\n",
              "      <td>থ্রো</td>\n",
              "    </tr>\n",
              "  </tbody>\n",
              "</table>\n",
              "</div>"
            ],
            "text/plain": [
              "  image_id  grapheme_root  vowel_diacritic  consonant_diacritic grapheme\n",
              "0  Train_0             15                9                    5   ক্ট্রো\n",
              "1  Train_1            159                0                    0        হ\n",
              "2  Train_2             22                3                    5     খ্রী\n",
              "3  Train_3             53                2                    2     র্টি\n",
              "4  Train_4             71                9                    5     থ্রো"
            ]
          },
          "metadata": {
            "tags": []
          },
          "execution_count": 90
        }
      ]
    },
    {
      "cell_type": "code",
      "metadata": {
        "id": "xsg88jfNFhQM",
        "colab_type": "code",
        "colab": {}
      },
      "source": [
        "test_df_.head()"
      ],
      "execution_count": 0,
      "outputs": []
    },
    {
      "cell_type": "code",
      "metadata": {
        "id": "fQNvRQczHoVk",
        "colab_type": "code",
        "colab": {}
      },
      "source": [
        "sample_sub_df.head()"
      ],
      "execution_count": 0,
      "outputs": []
    },
    {
      "cell_type": "code",
      "metadata": {
        "id": "q-NkyC0iHzAw",
        "colab_type": "code",
        "colab": {}
      },
      "source": [
        "class_map_df.head()"
      ],
      "execution_count": 0,
      "outputs": []
    },
    {
      "cell_type": "code",
      "metadata": {
        "id": "J__e3vTDH0Nu",
        "colab_type": "code",
        "outputId": "8729605e-8cdb-4703-ed0a-babe297b210c",
        "colab": {
          "base_uri": "https://localhost:8080/",
          "height": 72
        }
      },
      "source": [
        "print(f'Size of training data: {train_df_.shape}')\n",
        "print(f'Size of test data: {test_df_.shape}')\n",
        "print(f'Size of class map: {class_map_df.shape}')"
      ],
      "execution_count": 0,
      "outputs": [
        {
          "output_type": "stream",
          "text": [
            "Size of training data: (200840, 5)\n",
            "Size of test data: (36, 3)\n",
            "Size of class map: (186, 3)\n"
          ],
          "name": "stdout"
        }
      ]
    },
    {
      "cell_type": "code",
      "metadata": {
        "id": "tUKp9oGUoQ80",
        "colab_type": "code",
        "colab": {}
      },
      "source": [
        "#from zipfile import ZipFile"
      ],
      "execution_count": 0,
      "outputs": []
    },
    {
      "cell_type": "code",
      "metadata": {
        "id": "V0TKZf1yoTpf",
        "colab_type": "code",
        "colab": {}
      },
      "source": [
        "#with ZipFile('/content/gdrive/My Drive/Bengali_AI_data/train_image_data_0.parquet.zip', 'r') as zipObj:\n",
        "   # Extract all the contents of zip file in current directory\n",
        "  # zipObj.extractall()\n",
        "  # print('Done')"
      ],
      "execution_count": 0,
      "outputs": []
    },
    {
      "cell_type": "markdown",
      "metadata": {
        "id": "zhoxNKtDDa5u",
        "colab_type": "text"
      },
      "source": [
        ""
      ]
    },
    {
      "cell_type": "markdown",
      "metadata": {
        "id": "T1OabISADf9H",
        "colab_type": "text"
      },
      "source": [
        "## Loading image data from drive"
      ]
    },
    {
      "cell_type": "code",
      "metadata": {
        "id": "pNGJhq0drbb0",
        "colab_type": "code",
        "colab": {}
      },
      "source": [
        "TRAIN = ['/content/gdrive/My Drive/Bengali_AI_data/train_image_data_0.parquet',\n",
        "         '/content/gdrive/My Drive/Bengali_AI_data/train_image_data_1.parquet',\n",
        "         '/content/gdrive/My Drive/Bengali_AI_data/train_image_data_2.parquet',\n",
        "         '/content/gdrive/My Drive/Bengali_AI_data/train_image_data_3.parquet']\n",
        "\n",
        "data0=pd.read_parquet(TRAIN[0])\n",
        "for i in range(1): #4 for all files\n",
        "  data  = pd.concat([data0,pd.read_parquet(TRAIN[i+1])],ignore_index=True)\n",
        "\n",
        "\n",
        "del data0\n",
        "#data1=pd.read_parquet('/content/gdrive/My Drive/Bengali_AI_data/train_image_data_1.parquet')\n",
        "#data2=pd.read_parquet('/content/gdrive/My Drive/Bengali_AI_data/train_image_data_2.parquet')\n",
        "#data3=pd.read_parquet('/content/gdrive/My Drive/Bengali_AI_data/train_image_data_3.parquet')\n",
        "#requires 1:54 s"
      ],
      "execution_count": 0,
      "outputs": []
    },
    {
      "cell_type": "markdown",
      "metadata": {
        "id": "MA8rejT2L6sQ",
        "colab_type": "text"
      },
      "source": [
        "#Prepossing the data"
      ]
    },
    {
      "cell_type": "code",
      "metadata": {
        "id": "28xF8k0mKMj7",
        "colab_type": "code",
        "outputId": "d17f2cd8-4161-4a32-c027-86ee97ce744b",
        "colab": {
          "base_uri": "https://localhost:8080/",
          "height": 35
        }
      },
      "source": [
        "n_epoch = 3\n",
        "batch_size_train = 64\n",
        "batch_size_test = 1000\n",
        "\n",
        "learning_rate = 0.01\n",
        "momentum = 0.5\n",
        "log_interval = 100\n",
        "\n",
        "random_seed = 1\n",
        "\n",
        "torch.backends.cudnn.enabled = False\n",
        "torch.manual_seed(random_seed)"
      ],
      "execution_count": 0,
      "outputs": [
        {
          "output_type": "execute_result",
          "data": {
            "text/plain": [
              "<torch._C.Generator at 0x7fc3ce749c70>"
            ]
          },
          "metadata": {
            "tags": []
          },
          "execution_count": 5
        }
      ]
    },
    {
      "cell_type": "code",
      "metadata": {
        "id": "VntkaI0um9BO",
        "colab_type": "code",
        "colab": {}
      },
      "source": [
        "HEIGHT = 137\n",
        "WIDTH = 236\n",
        "SIZE = 128\n",
        "\n",
        "#sample_data0 = data0.loc[0:50]\n",
        "#sample_images0 = data0.iloc[0:50, 1:].values.reshape(-1, HEIGHT, WIDTH)\n",
        "train_dataset_images = data.iloc[:, 1:].values.reshape(-1, HEIGHT, WIDTH).astype(np.uint8)"
      ],
      "execution_count": 0,
      "outputs": []
    },
    {
      "cell_type": "markdown",
      "metadata": {
        "id": "JbA98K9L9A6B",
        "colab_type": "text"
      },
      "source": [
        "## Image Resizing, croping and train_dataset_images0 preparation"
      ]
    },
    {
      "cell_type": "code",
      "metadata": {
        "id": "oRpi9gKX9cfZ",
        "colab_type": "code",
        "colab": {}
      },
      "source": [
        "# https://www.kaggle.com/iafoss/image-preprocessing-128x128\n",
        "import cv2\n",
        "def bbox(img):\n",
        "    rows = np.any(img, axis=1)\n",
        "    cols = np.any(img, axis=0)\n",
        "    rmin, rmax = np.where(rows)[0][[0, -1]]\n",
        "    cmin, cmax = np.where(cols)[0][[0, -1]]\n",
        "    return rmin, rmax, cmin, cmax\n",
        "\n",
        "def crop_resize(img0, size=SIZE, pad=16):\n",
        "    #crop a box around pixels large than the threshold \n",
        "    #some images contain line at the sides\n",
        "    ymin,ymax,xmin,xmax = bbox(img0[5:-5,5:-5] > 80)\n",
        "    #cropping may cut too much, so we need to add it back\n",
        "    xmin = xmin - 13 if (xmin > 13) else 0\n",
        "    ymin = ymin - 10 if (ymin > 10) else 0\n",
        "    xmax = xmax + 13 if (xmax < WIDTH - 13) else WIDTH\n",
        "    ymax = ymax + 10 if (ymax < HEIGHT - 10) else HEIGHT\n",
        "    img = img0[ymin:ymax,xmin:xmax]\n",
        "    #remove lo intensity pixels as noise\n",
        "    img[img < 28] = 0\n",
        "    lx, ly = xmax-xmin,ymax-ymin\n",
        "    l = max(lx,ly) + pad\n",
        "    #make sure that the aspect ratio is kept in rescaling\n",
        "    img = np.pad(img, [((l-ly)//2,), ((l-lx)//2,)], mode='constant')\n",
        "    return cv2.resize(img,(size,size))"
      ],
      "execution_count": 0,
      "outputs": []
    },
    {
      "cell_type": "code",
      "metadata": {
        "id": "sFCrWh5--B8F",
        "colab_type": "code",
        "colab": {}
      },
      "source": [
        "n_imgs = 2\n",
        "fig, axs = plt.subplots(n_imgs, 2, figsize=(10, 5*n_imgs))\n",
        "\n",
        "for idx in range(n_imgs):\n",
        "    #somehow the original input is inverted\n",
        "    img0 = 255 - data.iloc[idx, 1:].values.reshape(HEIGHT, WIDTH).astype(np.uint8)\n",
        "    #normalize each image by its max val\n",
        "    img = (img0*(255.0/img0.max())).astype(np.uint8)\n",
        "    img = crop_resize(img)\n",
        "\n",
        "    axs[idx,0].imshow(img0)\n",
        "    axs[idx,0].set_title('Original image')\n",
        "    axs[idx,0].axis('off')\n",
        "    axs[idx,1].imshow(img)\n",
        "    axs[idx,1].set_title('Crop & resize')\n",
        "    axs[idx,1].axis('off')\n",
        "plt.show()\n",
        "img"
      ],
      "execution_count": 0,
      "outputs": []
    },
    {
      "cell_type": "code",
      "metadata": {
        "id": "jWGr3xUjEkRF",
        "colab_type": "code",
        "outputId": "dde1ecd1-dfb9-4597-d520-e2593e6998b8",
        "colab": {
          "base_uri": "https://localhost:8080/",
          "height": 35
        }
      },
      "source": [
        "type(train_dataset_images0)\n",
        "len(data0)"
      ],
      "execution_count": 0,
      "outputs": [
        {
          "output_type": "execute_result",
          "data": {
            "text/plain": [
              "50210"
            ]
          },
          "metadata": {
            "tags": []
          },
          "execution_count": 51
        }
      ]
    },
    {
      "cell_type": "code",
      "metadata": {
        "id": "ssibtX0o_a8U",
        "colab_type": "code",
        "colab": {}
      },
      "source": [
        "#import tdqm\n",
        "\n",
        "x_tot,x2_tot = [],[]\n",
        "\n",
        "#for fname in TRAIN[0]:\n",
        "#df = pd.read_parquet(fname)\n",
        "#the input is inverted\n",
        "df = data #We are dealng with data0 is only, for time being\n",
        "\n",
        "\n",
        "train_dataset_images = 255 - train_dataset_images\n",
        "resized_train_dataset_images = np.zeros((len(df),SIZE,SIZE)).astype(np.uint8)\n",
        "\n",
        "for idx in range(len(df)):\n",
        "  #name = df.iloc[idx,0]\n",
        "  #normalize each image by its max val\n",
        "  img = (train_dataset_images[idx]*(255.0/train_dataset_images[idx].max())).astype(np.uint8)\n",
        "  img = crop_resize(img)\n",
        "  resized_train_dataset_images[idx] = img\n",
        "        \n",
        "  x_tot.append((img/255.0).mean())\n",
        "  x2_tot.append(((img/255.0)**2).mean())\n",
        "  #img = cv2.imencode('.png',img)[1]\n",
        "  #img_out.writestr(name + '.png', img)\n",
        "\n",
        "del df"
      ],
      "execution_count": 0,
      "outputs": []
    },
    {
      "cell_type": "code",
      "metadata": {
        "id": "nMTVCkykHWTq",
        "colab_type": "code",
        "outputId": "3d025184-6402-4c97-9f48-76ef6c8bdc98",
        "colab": {
          "base_uri": "https://localhost:8080/",
          "height": 264
        }
      },
      "source": [
        "plt.imshow(train_dataset_images[4])"
      ],
      "execution_count": 0,
      "outputs": [
        {
          "output_type": "execute_result",
          "data": {
            "text/plain": [
              "<matplotlib.image.AxesImage at 0x7fc3cd7c0160>"
            ]
          },
          "metadata": {
            "tags": []
          },
          "execution_count": 11
        },
        {
          "output_type": "display_data",
          "data": {
            "image/png": "[encoded data removed]",
            "text/plain": [
              "<Figure size 432x288 with 1 Axes>"
            ]
          },
          "metadata": {
            "tags": []
          }
        }
      ]
    },
    {
      "cell_type": "code",
      "metadata": {
        "id": "5vytdeeHGtip",
        "colab_type": "code",
        "outputId": "345b50bb-bbd5-4395-f26d-15e4f07eece3",
        "colab": {
          "base_uri": "https://localhost:8080/",
          "height": 286
        }
      },
      "source": [
        "plt.imshow(resized_train_dataset_images[4])"
      ],
      "execution_count": 0,
      "outputs": [
        {
          "output_type": "execute_result",
          "data": {
            "text/plain": [
              "<matplotlib.image.AxesImage at 0x7fc3cd7dbe48>"
            ]
          },
          "metadata": {
            "tags": []
          },
          "execution_count": 12
        },
        {
          "output_type": "display_data",
          "data": {
            "image/png": "[encoded data removed]",
            "text/plain": [
              "<Figure size 432x288 with 1 Axes>"
            ]
          },
          "metadata": {
            "tags": []
          }
        }
      ]
    },
    {
      "cell_type": "code",
      "metadata": {
        "id": "57TV6pZU_zCn",
        "colab_type": "code",
        "outputId": "6d46cd73-33d0-4468-d6c6-c6d389113d24",
        "colab": {
          "base_uri": "https://localhost:8080/",
          "height": 35
        }
      },
      "source": [
        "#image stats\n",
        "img_mean =  np.array(x_tot).mean()\n",
        "img_std =  np.sqrt(np.array(x2_tot).mean() - img_mean**2)\n",
        "print('mean:',img_mean, ', std:', img_std)"
      ],
      "execution_count": 0,
      "outputs": [
        {
          "output_type": "stream",
          "text": [
            "mean: 0.06927922005352107 , std: 0.20523578194555483\n"
          ],
          "name": "stdout"
        }
      ]
    },
    {
      "cell_type": "code",
      "metadata": {
        "id": "APLFKT0nIH5n",
        "colab_type": "code",
        "colab": {}
      },
      "source": [
        "train_dataset_images = resized_train_dataset_images\n",
        "del resized_train_dataset_images"
      ],
      "execution_count": 0,
      "outputs": []
    },
    {
      "cell_type": "markdown",
      "metadata": {
        "id": "oNEEp2M7_r9y",
        "colab_type": "text"
      },
      "source": [
        "## target_dataset_images0 preparation"
      ]
    },
    {
      "cell_type": "code",
      "metadata": {
        "id": "5FLN7H1iuLR3",
        "colab_type": "code",
        "colab": {}
      },
      "source": [
        "#plt.imshow(train_dataset_images0[1], cmap = 'gray')\n",
        "train_dataset_images[1][60]"
      ],
      "execution_count": 0,
      "outputs": []
    },
    {
      "cell_type": "code",
      "metadata": {
        "id": "ly7nfMkOu_BS",
        "colab_type": "code",
        "colab": {}
      },
      "source": [
        "#sample_train_df = train_df_.iloc[0:50,1:4]\n",
        "#sample_train_df.head()\n",
        "#index = 2\n",
        "#sample_train_df['grapheme_root'][index], sample_train_df['vowel_diacritic'][index],sample_train_df['consonant_diacritic'][index]\n",
        "\n",
        "target_dataset_image = train_df_.iloc[0:len(train_dataset_images),1:4]\n",
        "target_dataset_image.head()"
      ],
      "execution_count": 0,
      "outputs": []
    },
    {
      "cell_type": "code",
      "metadata": {
        "id": "U2jlOGruZo3g",
        "colab_type": "code",
        "colab": {}
      },
      "source": [
        "#Transformation object\n",
        "\n",
        "data_transforms = torchvision.transforms.Compose([\n",
        "        torchvision.transforms.ToTensor(),\n",
        "        torchvision.transforms.Normalize( (img_mean,),(img_std,) )\n",
        "        ])"
      ],
      "execution_count": 0,
      "outputs": []
    },
    {
      "cell_type": "markdown",
      "metadata": {
        "id": "CM1CU3JkZBl3",
        "colab_type": "text"
      },
      "source": [
        "# GraphemeDataset Class"
      ]
    },
    {
      "cell_type": "code",
      "metadata": {
        "id": "syiECe8i04_z",
        "colab_type": "code",
        "colab": {}
      },
      "source": [
        "#sample_data = sample_data0.merge(sample_train_df, on=\"image_id\", how = 'inner')\n",
        "#sample_data.head()\n",
        "\n",
        "class GraphemeDataset(Dataset):\n",
        "    def __init__(self, images, targets, transfrom):\n",
        "        self.images = images\n",
        "        self.target_grapheme_root = targets['grapheme_root']\n",
        "        self.target_vowel_diacritic = targets['vowel_diacritic']\n",
        "        self.target_consonant_diacritic = targets['consonant_diacritic']\n",
        "\n",
        "        self.transform = transfrom\n",
        "\n",
        "    def __getitem__(self, index):\n",
        "        image = self.images[index]\n",
        "        target = [self.target_grapheme_root[index], self.target_vowel_diacritic[index],self.target_consonant_diacritic[index] ]\n",
        "\n",
        "        y = torch.tensor(target)\n",
        "        \n",
        "        #Applying threshold here\n",
        "        image[image < 127] = 0\n",
        "        image[image >= 127] = 255\n",
        "\n",
        "        #x = torchvision.transforms.functional.to_tensor(image)\n",
        "        if self.transform:\n",
        "            x = self.transform(image)\n",
        "\n",
        "        return x,y\n",
        "\n",
        "    def __len__(self):\n",
        "        return len(self.images)"
      ],
      "execution_count": 0,
      "outputs": []
    },
    {
      "cell_type": "markdown",
      "metadata": {
        "id": "keyHOLQ6ZTsO",
        "colab_type": "text"
      },
      "source": [
        "# Loading data into Dataloader"
      ]
    },
    {
      "cell_type": "code",
      "metadata": {
        "id": "pKpXUuSMpGv9",
        "colab_type": "code",
        "outputId": "05e69fdc-b80e-4028-efbe-5edaa8e3c2a4",
        "colab": {
          "base_uri": "https://localhost:8080/",
          "height": 284
        }
      },
      "source": [
        "# showing some original(resized and cropped, not transformed) images from train_dataset_images0\n",
        "for i in range(16):\n",
        "    plt.subplot(4, 4, i+1)\n",
        "    plt.tight_layout()\n",
        "    plt.imshow(train_dataset_images[i], cmap='gray')\n",
        "    plt.xticks([])\n",
        "    plt.yticks([])"
      ],
      "execution_count": 0,
      "outputs": [
        {
          "output_type": "display_data",
          "data": {
            "image/png": "[encoded data removed]",
            "text/plain": [
              "<Figure size 432x288 with 16 Axes>"
            ]
          },
          "metadata": {
            "tags": []
          }
        }
      ]
    },
    {
      "cell_type": "code",
      "metadata": {
        "id": "vHLZqBkdwYlM",
        "colab_type": "code",
        "outputId": "13fe643e-ad59-4393-fe29-c245c3eab648",
        "colab": {
          "base_uri": "https://localhost:8080/",
          "height": 243
        }
      },
      "source": [
        "images_loader = torch.utils.data.DataLoader(\n",
        "    GraphemeDataset(train_dataset_images, target_dataset_image, data_transforms),\n",
        "    batch_size=batch_size_test, \n",
        "    shuffle=True\n",
        "    )  \n",
        "images_loader"
      ],
      "execution_count": 0,
      "outputs": [
        {
          "output_type": "error",
          "ename": "NameError",
          "evalue": "ignored",
          "traceback": [
            "\u001b[0;31m---------------------------------------------------------------------------\u001b[0m",
            "\u001b[0;31mNameError\u001b[0m                                 Traceback (most recent call last)",
            "\u001b[0;32m<ipython-input-28-e8ad7a2ae1a4>\u001b[0m in \u001b[0;36m<module>\u001b[0;34m()\u001b[0m\n\u001b[1;32m      1\u001b[0m images_loader = torch.utils.data.DataLoader(\n\u001b[0;32m----> 2\u001b[0;31m     \u001b[0mGraphemeDataset\u001b[0m\u001b[0;34m(\u001b[0m\u001b[0mtrain_dataset_images\u001b[0m\u001b[0;34m,\u001b[0m \u001b[0mtarget_dataset_image\u001b[0m\u001b[0;34m,\u001b[0m \u001b[0mdata_transforms\u001b[0m\u001b[0;34m)\u001b[0m\u001b[0;34m,\u001b[0m\u001b[0;34m\u001b[0m\u001b[0;34m\u001b[0m\u001b[0m\n\u001b[0m\u001b[1;32m      3\u001b[0m     \u001b[0mbatch_size\u001b[0m\u001b[0;34m=\u001b[0m\u001b[0mbatch_size_test\u001b[0m\u001b[0;34m,\u001b[0m\u001b[0;34m\u001b[0m\u001b[0;34m\u001b[0m\u001b[0m\n\u001b[1;32m      4\u001b[0m     \u001b[0mshuffle\u001b[0m\u001b[0;34m=\u001b[0m\u001b[0;32mTrue\u001b[0m\u001b[0;34m\u001b[0m\u001b[0;34m\u001b[0m\u001b[0m\n\u001b[1;32m      5\u001b[0m     )  \n",
            "\u001b[0;31mNameError\u001b[0m: name 'data_transforms' is not defined"
          ]
        }
      ]
    },
    {
      "cell_type": "code",
      "metadata": {
        "id": "DUvqgz_gwiVO",
        "colab_type": "code",
        "colab": {}
      },
      "source": [
        "examples = enumerate(images0_loader)\n",
        " \n",
        "batch_idx, (example_data, example_targets) = next(examples)"
      ],
      "execution_count": 0,
      "outputs": []
    },
    {
      "cell_type": "code",
      "metadata": {
        "id": "VCDVlyuxwt94",
        "colab_type": "code",
        "colab": {}
      },
      "source": [
        "example_targets.shape\n",
        "\n",
        "len(GraphemeDataset(train_dataset_images0, target_dataset_image0, data_transforms))\n",
        "\n",
        "def Extract(lst,n): \n",
        "    return torch.tensor(list(list(zip(*lst))[n])) \n",
        "\n",
        "#Extract(example_targets,0).size()\n",
        "\n",
        "example_data"
      ],
      "execution_count": 0,
      "outputs": []
    },
    {
      "cell_type": "code",
      "metadata": {
        "id": "E_Y0Ix5l0CYB",
        "colab_type": "code",
        "colab": {}
      },
      "source": [
        "#showing some transformed images from images0_loader\n",
        "for i in range(2):\n",
        "  plt.subplot(2,1,i+1)\n",
        "  #plt.tight_layout()\n",
        "  plt.imshow(example_data[i][0], cmap='binary', interpolation='none')\n",
        "  plt.title(\"Ground Truth: {}\".format(example_targets[i]))\n",
        "  plt.xticks([])\n",
        "  plt.yticks([])"
      ],
      "execution_count": 0,
      "outputs": []
    },
    {
      "cell_type": "markdown",
      "metadata": {
        "id": "S8MdKIDwRwOp",
        "colab_type": "text"
      },
      "source": [
        "## Sample train , test split"
      ]
    },
    {
      "cell_type": "code",
      "metadata": {
        "id": "1mW0XZysR3JV",
        "colab_type": "code",
        "outputId": "24ba9d35-6fcf-4efb-af1a-c7262fde503b",
        "colab": {
          "base_uri": "https://localhost:8080/",
          "height": 53
        }
      },
      "source": [
        "sample_data = GraphemeDataset(train_dataset_images0, target_dataset_image0, data_transforms)\n",
        "\n",
        "l = len(sample_data)\n",
        "train_set, test_set = torch.utils.data.random_split(sample_data, [int(l*0.7), l - int(l*0.7)])\n",
        "\n",
        "train_loader = torch.utils.data.DataLoader(\n",
        "    train_set,\n",
        "    batch_size=batch_size_train, \n",
        "    shuffle=True,\n",
        "    drop_last=True\n",
        "    ) \n",
        "\n",
        "test_loader = torch.utils.data.DataLoader(\n",
        "    test_set,\n",
        "    batch_size=batch_size_test, \n",
        "    shuffle=True,\n",
        "    drop_last=True\n",
        "    )   \n",
        "\n",
        "print(int(l*0.7))\n",
        "print(l - int(l*0.7))"
      ],
      "execution_count": 0,
      "outputs": [
        {
          "output_type": "stream",
          "text": [
            "35147\n",
            "15063\n"
          ],
          "name": "stdout"
        }
      ]
    },
    {
      "cell_type": "code",
      "metadata": {
        "id": "sp45FMVLanfl",
        "colab_type": "code",
        "outputId": "bfbac31f-e064-4970-e254-d004c87f9044",
        "colab": {
          "base_uri": "https://localhost:8080/",
          "height": 35
        }
      },
      "source": [
        "\n",
        "examples = enumerate(test_loader)\n",
        "\n",
        "batch_idx, (example_data, example_targets) = next(examples)\n",
        "\n",
        "example_data.mean()"
      ],
      "execution_count": 0,
      "outputs": [
        {
          "output_type": "execute_result",
          "data": {
            "text/plain": [
              "tensor(0.0278)"
            ]
          },
          "metadata": {
            "tags": []
          },
          "execution_count": 83
        }
      ]
    },
    {
      "cell_type": "markdown",
      "metadata": {
        "id": "LH7VuIabUdWg",
        "colab_type": "text"
      },
      "source": [
        "# MNIST Net"
      ]
    },
    {
      "cell_type": "code",
      "metadata": {
        "id": "IOZNJb_kTgcv",
        "colab_type": "code",
        "colab": {}
      },
      "source": [
        "import torch.nn as nn\n",
        "import torch.nn.functional as F\n",
        "import torch.optim as optim\n",
        "\n",
        "class Net(nn.Module):\n",
        "  def __init__(self):\n",
        "    super(Net, self).__init__()\n",
        "    self.conv1 = nn.Conv2d(1, 10, kernel_size=5)\n",
        "    self.conv2 = nn.Conv2d(10, 20, kernel_size=5)\n",
        "    self.conv3 = nn.Conv2d(20, 15, kernel_size=5)\n",
        "\n",
        "    self.conv2_drop = nn.Dropout2d()\n",
        "\n",
        "    last_layer_size = 60 #for 128*128 images\n",
        "\n",
        "    self.fc1_root = nn.Linear(last_layer_size,200)\n",
        "    self.fc2_root = nn.Linear(200,168) #grapheme roots 168\n",
        "\n",
        "    self.fc1_vowel = nn.Linear(last_layer_size,50)\n",
        "    self.fc2_vowel = nn.Linear(50,11) #vowel_diacritic 11\n",
        "\n",
        "    self.fc1_consonant = nn.Linear(last_layer_size,50)\n",
        "    self.fc2_consonant = nn.Linear(50,7) #consonent_diacritic 7\n",
        "\n",
        "  def forward(self, x):\n",
        "    x = F.relu(F.max_pool2d(self.conv1(x), 3))\n",
        "    x = F.relu(F.max_pool2d(self.conv2_drop(self.conv2(x)), 3))\n",
        "    x = F.relu(F.max_pool2d(self.conv2_drop(self.conv3(x)), 3))\n",
        "\n",
        "    x = x.view(x.size(0), -1) #flatting the 2D image data\n",
        "    #print(x.shape)\n",
        "\n",
        "    x_root = F.relu(self.fc1_root(x))\n",
        "    x_root = F.dropout(x_root, training=self.training)\n",
        "    x_root = self.fc2_root(x_root)\n",
        "\n",
        "    x_vowel = F.relu(self.fc1_vowel(x))\n",
        "    x_vowel = F.dropout(x_vowel, training=self.training)\n",
        "    x_vowel = self.fc2_vowel(x_vowel)\n",
        "\n",
        "    x_consonent = F.relu(self.fc1_consonant(x))\n",
        "    x_consonent = F.dropout(x_consonent, training=self.training)\n",
        "    x_consonent = self.fc2_consonant(x_consonent)\n",
        "\n",
        "    return F.log_softmax(x_root),  F.log_softmax(x_vowel),  F.log_softmax(x_vowel)"
      ],
      "execution_count": 0,
      "outputs": []
    },
    {
      "cell_type": "markdown",
      "metadata": {
        "id": "9Dm2jbgXUiU3",
        "colab_type": "text"
      },
      "source": [
        "# AlexNet"
      ]
    },
    {
      "cell_type": "code",
      "metadata": {
        "id": "Fs1beJvAi011",
        "colab_type": "code",
        "colab": {}
      },
      "source": [
        "import torch.nn as nn\n",
        "import torch.nn.functional as F\n",
        "import torch.optim as optim\n",
        "class AlexNet(nn.Module):\n",
        "\n",
        "    def __init__(self, num_classes=2):\n",
        "        super(AlexNet, self).__init__()\n",
        "        self.features = nn.Sequential(\n",
        "            nn.Conv2d(1, 64, kernel_size=11, stride=4, padding=2),\n",
        "            nn.ReLU(),\n",
        "            nn.MaxPool2d(kernel_size=3, stride=2),\n",
        "            nn.Conv2d(64, 192, kernel_size=5, padding=2),\n",
        "            nn.ReLU(),\n",
        "            nn.MaxPool2d(kernel_size=3, stride=2),\n",
        "            nn.Conv2d(192, 384, kernel_size=3, padding=1),\n",
        "            nn.ReLU(),\n",
        "            nn.Conv2d(384, 256, kernel_size=3, padding=1),\n",
        "            nn.ReLU(),\n",
        "            nn.Conv2d(256, 256, kernel_size=3, padding=1),\n",
        "            nn.ReLU(),\n",
        "            nn.MaxPool2d(kernel_size=3, stride=2),\n",
        "        )\n",
        "        self.avgpool = nn.AdaptiveAvgPool2d((6, 6))\n",
        "        self.classifier1 = nn.Sequential(\n",
        "            nn.Dropout(),\n",
        "            nn.Linear(256 * 6 * 6, 4096),\n",
        "            nn.ReLU(),\n",
        "            nn.Dropout(),\n",
        "            nn.Linear(4096, 4096),\n",
        "            nn.ReLU(),\n",
        "            nn.Linear(4096, 168)\n",
        "        )\n",
        "        self.classifier2 = nn.Sequential(\n",
        "            nn.Dropout(),\n",
        "            nn.Linear(256 * 6 * 6, 4096),\n",
        "            nn.ReLU(),\n",
        "            nn.Dropout(),\n",
        "            nn.Linear(4096, 4096),\n",
        "            nn.ReLU(),\n",
        "            nn.Linear(4096, 11)\n",
        "        )\n",
        "        self.classifier3 = nn.Sequential(\n",
        "            nn.Dropout(),\n",
        "            nn.Linear(256 * 6 * 6, 4096),\n",
        "            nn.ReLU(),\n",
        "            nn.Dropout(),\n",
        "            nn.Linear(4096, 4096),\n",
        "            nn.ReLU(),\n",
        "            nn.Linear(4096, 7)\n",
        "\n",
        "        )\n",
        "    \n",
        "    def forward(self, x):\n",
        "        x = self.features(x)\n",
        "        x = self.avgpool(x)\n",
        "        x = torch.flatten(x, 1)\n",
        "        x1 = self.classifier1(x)\n",
        "        x2 = self.classifier2(x)\n",
        "        x3 = self.classifier3(x)\n",
        "        return F.log_softmax(x1),  F.log_softmax(x2),  F.log_softmax(x3)"
      ],
      "execution_count": 0,
      "outputs": []
    },
    {
      "cell_type": "markdown",
      "metadata": {
        "id": "R-Gi2XBYm_40",
        "colab_type": "text"
      },
      "source": [
        "# Training"
      ]
    },
    {
      "cell_type": "code",
      "metadata": {
        "id": "7M1LejsETl15",
        "colab_type": "code",
        "colab": {}
      },
      "source": [
        "network = Net().to('cuda') #Creating an instance of the Net class model\n",
        "#network = ResNet18().to('cuda')\n",
        "#network = AlexNet().to('cuda')\n",
        "\n",
        "optimizer = optim.SGD(network.parameters(), lr = learning_rate,\n",
        "                      momentum=momentum) #Chosing SGD as an optimizer\n",
        "\n",
        "#Some variables to keep track of the learning process\n",
        "#To later create a learning curve\n",
        "\n",
        "train_losses = []\n",
        "train_counter = []\n",
        "test_losses = []\n",
        "test_counter = [i*len(train_loader.dataset) for i in range(n_epoch + 1)]\n",
        "\n",
        "len(test_loader.dataset)\n",
        "\n",
        "\n",
        "def train(epoch): #epoch just indicating in which epoch the train function is running\n",
        "  \n",
        "  network.train() #Setting the model in training mode\n",
        "\n",
        "  for batch_idx, (data, target) in enumerate(train_loader):\n",
        "    #The whole process from here is done on batch basis\n",
        "    #batch_idx is the batch index\n",
        "    #data is a batch_len*1*128*128 tensor of a batch of data\n",
        "    #target is a batch_len*10 tensor of the data's labels\n",
        "\n",
        "   data, target = data.to('cuda'), target.to('cuda') #This line to be run if data and target are not compatible in tensor form\n",
        "\n",
        "   #These 5 lines are routine code for training a model in pytorch, so far\n",
        "   optimizer.zero_grad()\n",
        "   output1, output2, output3 = network(data)\n",
        "   loss1 = F.nll_loss(output1, Extract(target,0).to('cuda')) #We can choose different loss function, but nll_loss or negative log-likelihodd loss is widely used\n",
        "   loss2 = F.nll_loss(output2, Extract(target,1).to('cuda'))\n",
        "   loss3 = F.nll_loss(output3, Extract(target,2).to('cuda'))\n",
        "\n",
        "   loss = loss1 + loss2 + loss3\n",
        "\n",
        "   loss.backward() #This the auto-grad step, the particular useful characteristic of pytorch, \n",
        "                   #accumulatation of gradients in forward propagation makes this to happen \n",
        "   optimizer.step()\n",
        "\n",
        "   #Tracker and visualization\n",
        "   if batch_idx % log_interval == 0:\n",
        "     print('Train Epoch: {} [{}/{} ({:.0f}%)]\\tLoss : {:.6f}'.format(\n",
        "         epoch, batch_idx * len(data), len(train_loader.dataset),\n",
        "         100.* batch_idx / len(train_loader), loss.item()))\n",
        "    \n",
        "     train_losses.append(loss.item())\n",
        "\n",
        "     train_counter.append(\n",
        "         (batch_idx*64) + (epoch-1)*len(train_loader.dataset))\n",
        "     \n",
        "     torch.save(network.state_dict(), '/content/model.pth')\n",
        "\n",
        "     torch.save(optimizer.state_dict(), '/content/optimizer.pth')\n",
        "\n",
        "\n",
        "def test():\n",
        "  network.eval() #Setting the model in evaluation/testing mode\n",
        "  test_loss = 0\n",
        "  correct = 0\n",
        "\n",
        "  with torch.no_grad(): #no_grad is activated, since for testing we don't need further gradient accumulation\n",
        "    for batch_idx, (data, target) in enumerate(test_loader):\n",
        "\n",
        "      #The whole process from here is done on batch basis\n",
        "      #batch_idx is the batch index\n",
        "      #data is a batch_len*1*28*28 tensor of a batch of data\n",
        "      #target is a batch_len*10 tensor of the data's labels\n",
        "\n",
        "      data, target = data.to('cuda'), target.to('cuda') #This line to be run if data and target are not compatible in tensor form\n",
        "\n",
        "      output1, output2, output3 = network(data)\n",
        "      #print(data.size())\n",
        "      #print(output1.size())\n",
        "      test_loss1 = F.nll_loss(output1, Extract(target,0).to('cuda'), size_average=False).item() #negative log-likelihodd loss\n",
        "      test_loss2 = F.nll_loss(output2, Extract(target,1).to('cuda'), size_average=False).item()\n",
        "      test_loss3 = F.nll_loss(output3, Extract(target,2).to('cuda'), size_average=False).item()\n",
        "      test_loss += test_loss1 + test_loss2 + test_loss2\n",
        "\n",
        "      pred1 = output1.data.max(1, keepdim=True)[1] #Picking the maximum probable result\n",
        "      pred2 = output2.data.max(1, keepdim=True)[1]\n",
        "      pred3 = output3.data.max(1, keepdim=True)[1]\n",
        "\n",
        "      temp = Extract(target,0).to('cuda')\n",
        "      correct1 = pred1.eq(temp.data.view_as(pred1)).sum()\n",
        "\n",
        "      temp = Extract(target,1).to('cuda')\n",
        "      correct2 = pred2.eq(temp.data.view_as(pred2)).sum()\n",
        "\n",
        "      temp = Extract(target,2).to('cuda')\n",
        "      correct3 = pred3.eq(temp.data.view_as(pred3)).sum()\n",
        "\n",
        "      #correct += correct1 + correct2 + correct3\n",
        "\n",
        "\n",
        "  #Tracker and visualization\n",
        "  test_loss /= len(test_loader.dataset)\n",
        "  test_losses.append(test_loss)\n",
        "\n",
        "  print('\\nTest set: Avg. loss: {:.4f}, Accuracy1: {}/{} ({:.0f}%)\\n Accuracy2: {}/{} ({:.0f}%)\\n Accuracy3: {}/{} ({:.0f}%)\\n'.format(\n",
        "      test_loss, correct1, len(test_loader.dataset),\n",
        "      100. * correct1/ len(test_loader.dataset),\n",
        "\n",
        "      correct2, len(test_loader.dataset),\n",
        "      100. * correct2/ len(test_loader.dataset),\n",
        "      \n",
        "      correct3, len(test_loader.dataset),\n",
        "      100. * correct3/ len(test_loader.dataset) )\n",
        "      )"
      ],
      "execution_count": 0,
      "outputs": []
    },
    {
      "cell_type": "code",
      "metadata": {
        "id": "KfHbPq-2T30J",
        "colab_type": "code",
        "outputId": "9424812f-87c2-48e7-a0be-bcc26eecfe4f",
        "colab": {
          "base_uri": "https://localhost:8080/",
          "height": 853
        }
      },
      "source": [
        "test()\n",
        "\n",
        "for epoch in range(1, n_epoch+1):\n",
        "  train(epoch)\n",
        "  test()"
      ],
      "execution_count": 0,
      "outputs": [
        {
          "output_type": "stream",
          "text": [
            "/usr/local/lib/python3.6/dist-packages/ipykernel_launcher.py:45: UserWarning:\n",
            "\n",
            "Implicit dimension choice for log_softmax has been deprecated. Change the call to include dim=X as an argument.\n",
            "\n",
            "/usr/local/lib/python3.6/dist-packages/torch/nn/_reduction.py:43: UserWarning:\n",
            "\n",
            "size_average and reduce args will be deprecated, please use reduction='sum' instead.\n",
            "\n"
          ],
          "name": "stderr"
        },
        {
          "output_type": "stream",
          "text": [
            "\n",
            "Test set: Avg. loss: 9.8808, Accuracy1: 5/15063 (0%)\n",
            " Accuracy2: 106/15063 (1%)\n",
            " Accuracy3: 3/15063 (0%)\n",
            "\n",
            "Train Epoch: 1 [0/35147 (0%)]\tLoss : 10.048380\n",
            "Train Epoch: 1 [6400/35147 (18%)]\tLoss : 8.877086\n",
            "Train Epoch: 1 [12800/35147 (36%)]\tLoss : 8.768079\n",
            "Train Epoch: 1 [19200/35147 (55%)]\tLoss : 8.716417\n",
            "Train Epoch: 1 [25600/35147 (73%)]\tLoss : 8.427016\n",
            "Train Epoch: 1 [32000/35147 (91%)]\tLoss : 8.920237\n",
            "\n",
            "Test set: Avg. loss: 8.8298, Accuracy1: 34/15063 (0%)\n",
            " Accuracy2: 205/15063 (1%)\n",
            " Accuracy3: 639/15063 (4%)\n",
            "\n",
            "Train Epoch: 2 [0/35147 (0%)]\tLoss : 8.534582\n",
            "Train Epoch: 2 [6400/35147 (18%)]\tLoss : 8.352588\n",
            "Train Epoch: 2 [12800/35147 (36%)]\tLoss : 8.391491\n",
            "Train Epoch: 2 [19200/35147 (55%)]\tLoss : 7.976336\n",
            "Train Epoch: 2 [25600/35147 (73%)]\tLoss : 8.113303\n",
            "Train Epoch: 2 [32000/35147 (91%)]\tLoss : 8.371104\n",
            "\n",
            "Test set: Avg. loss: 8.3757, Accuracy1: 46/15063 (0%)\n",
            " Accuracy2: 231/15063 (2%)\n",
            " Accuracy3: 610/15063 (4%)\n",
            "\n",
            "Train Epoch: 3 [0/35147 (0%)]\tLoss : 8.048846\n",
            "Train Epoch: 3 [6400/35147 (18%)]\tLoss : 8.051117\n",
            "Train Epoch: 3 [12800/35147 (36%)]\tLoss : 7.944974\n",
            "Train Epoch: 3 [19200/35147 (55%)]\tLoss : 7.930888\n",
            "Train Epoch: 3 [25600/35147 (73%)]\tLoss : 8.227098\n",
            "Train Epoch: 3 [32000/35147 (91%)]\tLoss : 8.024850\n",
            "\n",
            "Test set: Avg. loss: 8.1984, Accuracy1: 49/15063 (0%)\n",
            " Accuracy2: 228/15063 (2%)\n",
            " Accuracy3: 624/15063 (4%)\n",
            "\n"
          ],
          "name": "stdout"
        }
      ]
    },
    {
      "cell_type": "code",
      "metadata": {
        "id": "7TUVwV0IU3pR",
        "colab_type": "code",
        "colab": {}
      },
      "source": [
        "torch.cuda.is_available()\n",
        "!nvcc --version"
      ],
      "execution_count": 0,
      "outputs": []
    },
    {
      "cell_type": "code",
      "metadata": {
        "id": "rf1szsCi4HWQ",
        "colab_type": "code",
        "outputId": "6f868581-e6bd-4e1d-8bb5-a6d78ff554b4",
        "colab": {
          "base_uri": "https://localhost:8080/",
          "height": 297
        }
      },
      "source": [
        " fig = plt.figure()\n",
        "\n",
        "plt.plot(train_counter, train_losses, color = 'blue')\n",
        "\n",
        "plt.scatter(test_counter, test_losses, color ='red')\n",
        "plt.legend(['Train Loss', 'Test Loss'], loc = 'upper right')\n",
        "plt.xlabel('number of training example seen')\n",
        "plt.ylabel('negative log likelihood loss')"
      ],
      "execution_count": 0,
      "outputs": [
        {
          "output_type": "execute_result",
          "data": {
            "text/plain": [
              "Text(0, 0.5, 'negative log likelihood loss')"
            ]
          },
          "metadata": {
            "tags": []
          },
          "execution_count": 91
        },
        {
          "output_type": "display_data",
          "data": {
            "image/png": "[encoded data removed]",
            "text/plain": [
              "<Figure size 432x288 with 1 Axes>"
            ]
          },
          "metadata": {
            "tags": []
          }
        }
      ]
    },
    {
      "cell_type": "code",
      "metadata": {
        "id": "aaLdWdZhDtzO",
        "colab_type": "code",
        "colab": {}
      },
      "source": [
        "#train = pd.read_csv('/content/gdrive/My Drive/Bengali_AI_data/train.csv')"
      ],
      "execution_count": 0,
      "outputs": []
    },
    {
      "cell_type": "code",
      "metadata": {
        "id": "5p22_kHksNw1",
        "colab_type": "code",
        "colab": {}
      },
      "source": [
        "#data_full = pd.concat([data0,data1,data2,data3],ignore_index=True)"
      ],
      "execution_count": 0,
      "outputs": []
    },
    {
      "cell_type": "code",
      "metadata": {
        "id": "5s1SIYGywdYf",
        "colab_type": "code",
        "colab": {}
      },
      "source": [
        "#del data1,data2,data3\n",
        "#releases around 6gb of memory from RAM"
      ],
      "execution_count": 0,
      "outputs": []
    },
    {
      "cell_type": "code",
      "metadata": {
        "id": "wmYEEJLd0pL2",
        "colab_type": "code",
        "colab": {}
      },
      "source": [
        "# This was a test to see how long loading feather data takes\n",
        "#data0 = pd.read_feather('/content/gdrive/My Drive/Bengali_AI_data/train_image_data_0.feather')\n",
        "#data1 = pd.read_feather('/content/gdrive/My Drive/Bengali_AI_data/train_image_data_1.feather')\n",
        "#data2 = pd.read_feather('/content/gdrive/My Drive/Bengali_AI_data/train_image_data_2.feather')\n",
        "#data3 = pd.read_feather('/content/gdrive/My Drive/Bengali_AI_data/train_image_data_3.feather')\n",
        "# Took 2:30s  :("
      ],
      "execution_count": 0,
      "outputs": []
    },
    {
      "cell_type": "markdown",
      "metadata": {
        "id": "Ted6UDeuGUzE",
        "colab_type": "text"
      },
      "source": [
        "# Test implementation of a notebook (Bishmoy)"
      ]
    },
    {
      "cell_type": "markdown",
      "metadata": {
        "id": "T96eEi55JGaH",
        "colab_type": "text"
      },
      "source": [
        "https://www.kaggle.com/hanjoonchoe/grapheme-resnet-18-n-l-inference-lb-0-8566/data implemented down here. This uses pretrained weights ('saved_weights.pth' included in the drive)"
      ]
    },
    {
      "cell_type": "code",
      "metadata": {
        "id": "G6Wsda_OEkzN",
        "colab_type": "code",
        "colab": {}
      },
      "source": [
        "# This Python 3 environment comes with many helpful analytics libraries installed\n",
        "# It is defined by the kaggle/python docker image: https://github.com/kaggle/docker-python\n",
        "# For example, here's several helpful packages to load in \n",
        "\n",
        "import numpy as np # linear algebra\n",
        "import pandas as pd # data processing, CSV file I/O (e.g. pd.read_csv)\n",
        "\n",
        "# Input data files are available in the \"../input/\" directory.\n",
        "# For example, running this (by clicking run or pressing Shift+Enter) will list all files under the input directory\n",
        "\n",
        "import os\n",
        "for dirname, _, filenames in os.walk('/kaggle/input'):\n",
        "    for filename in filenames:\n",
        "        print(os.path.join(dirname, filename))\n",
        "\n",
        "# Any results you write to the current directory are saved as output.\n",
        "import cv2\n",
        "import torch\n",
        "import torch.nn as nn\n",
        "from torch.utils.data import Dataset,DataLoader\n",
        "from torchvision import transforms,models\n",
        "from tqdm import tqdm_notebook as tqdm"
      ],
      "execution_count": 0,
      "outputs": []
    },
    {
      "cell_type": "code",
      "metadata": {
        "id": "mMvpjFkZFuGw",
        "colab_type": "code",
        "colab": {}
      },
      "source": [
        "test = pd.read_csv('/content/gdrive/My Drive/Bengali_AI_data/test.csv')"
      ],
      "execution_count": 0,
      "outputs": []
    },
    {
      "cell_type": "code",
      "metadata": {
        "id": "9NZMo2JNF2hv",
        "colab_type": "code",
        "colab": {}
      },
      "source": [
        "class ResidualBlock(nn.Module):\n",
        "    def __init__(self,in_channels,out_channels,stride=1,kernel_size=3,padding=1,bias=False):\n",
        "        super(ResidualBlock,self).__init__()\n",
        "        self.cnn1 =nn.Sequential(\n",
        "            nn.Conv2d(in_channels,out_channels,kernel_size,stride,padding,bias=False),\n",
        "            nn.BatchNorm2d(out_channels),\n",
        "            nn.ReLU(True)\n",
        "        )\n",
        "        self.cnn2 = nn.Sequential(\n",
        "            nn.Conv2d(out_channels,out_channels,kernel_size,1,padding,bias=False),\n",
        "            nn.BatchNorm2d(out_channels)\n",
        "        )\n",
        "        if stride != 1 or in_channels != out_channels:\n",
        "            self.shortcut = nn.Sequential(\n",
        "                nn.Conv2d(in_channels,out_channels,kernel_size=1,stride=stride,bias=False),\n",
        "                nn.BatchNorm2d(out_channels)\n",
        "            )\n",
        "        else:\n",
        "            self.shortcut = nn.Sequential()\n",
        "            \n",
        "    def forward(self,x):\n",
        "        residual = x\n",
        "        x = self.cnn1(x)\n",
        "        x = self.cnn2(x)\n",
        "        x += self.shortcut(residual)\n",
        "        x = nn.ReLU(True)(x)\n",
        "        return x"
      ],
      "execution_count": 0,
      "outputs": []
    },
    {
      "cell_type": "code",
      "metadata": {
        "id": "6aH0AHf6F4FO",
        "colab_type": "code",
        "colab": {}
      },
      "source": [
        "class ResNet18(nn.Module):\n",
        "    def __init__(self):\n",
        "        super(ResNet18,self).__init__()\n",
        "        \n",
        "        self.block1 = nn.Sequential(\n",
        "            nn.Conv2d(1,64,kernel_size=2,stride=2,padding=3,bias=False),\n",
        "            nn.BatchNorm2d(64),\n",
        "            nn.ReLU(True)\n",
        "        )\n",
        "        \n",
        "        self.block2 = nn.Sequential(\n",
        "            nn.MaxPool2d(1,1),\n",
        "            ResidualBlock(64,64),\n",
        "            ResidualBlock(64,64,2)\n",
        "        )\n",
        "        \n",
        "        self.block3 = nn.Sequential(\n",
        "            ResidualBlock(64,128),\n",
        "            ResidualBlock(128,128,2)\n",
        "        )\n",
        "        \n",
        "        self.block4 = nn.Sequential(\n",
        "            ResidualBlock(128,256),\n",
        "            ResidualBlock(256,256,2)\n",
        "        )\n",
        "        self.block5 = nn.Sequential(\n",
        "            ResidualBlock(256,512),\n",
        "            ResidualBlock(512,512,2)\n",
        "        )\n",
        "        \n",
        "        self.avgpool = nn.AvgPool2d(2)\n",
        "        # vowel_diacritic\n",
        "        self.fc1 = nn.Linear(512,11)\n",
        "        # grapheme_root\n",
        "        self.fc2 = nn.Linear(512,168)\n",
        "        # consonant_diacritic\n",
        "        self.fc3 = nn.Linear(512,7)\n",
        "        \n",
        "    def forward(self,x):\n",
        "        x = self.block1(x)\n",
        "        x = self.block2(x)\n",
        "        x = self.block3(x)\n",
        "        x = self.block4(x)\n",
        "        x = self.block5(x)\n",
        "        x = self.avgpool(x)\n",
        "        x = x.view(x.size(0),-1)\n",
        "        x1 = self.fc1(x)\n",
        "        x2 = self.fc2(x)\n",
        "        x3 = self.fc3(x)\n",
        "        return x1,x2,x3"
      ],
      "execution_count": 0,
      "outputs": []
    },
    {
      "cell_type": "code",
      "metadata": {
        "id": "Qw5XRJAFF56-",
        "colab_type": "code",
        "outputId": "4d909d50-aa99-4a97-b770-8192e528781c",
        "colab": {
          "base_uri": "https://localhost:8080/",
          "height": 35
        }
      },
      "source": [
        "device = torch.device(\"cuda:0\" if torch.cuda.is_available() else \"cpu\")\n",
        "model = ResNet18().to(device)\n",
        "model.load_state_dict(torch.load('/content/gdrive/My Drive/Bengali_AI_data/saved_weights.pth'))"
      ],
      "execution_count": 0,
      "outputs": [
        {
          "output_type": "execute_result",
          "data": {
            "text/plain": [
              "<All keys matched successfully>"
            ]
          },
          "metadata": {
            "tags": []
          },
          "execution_count": 17
        }
      ]
    },
    {
      "cell_type": "code",
      "metadata": {
        "id": "A_KaMGx5HsrT",
        "colab_type": "code",
        "colab": {}
      },
      "source": [
        "def Resize(df,size=64):\n",
        "    resized = {} \n",
        "    df = df.set_index('image_id')\n",
        "    for i in tqdm(range(df.shape[0])):\n",
        "        image = cv2.resize(df.loc[df.index[i]].values.reshape(137,236),(size,size))\n",
        "        resized[df.index[i]] = image.reshape(-1)\n",
        "    resized = pd.DataFrame(resized).T.reset_index()\n",
        "    resized.columns = resized.columns.astype(str)\n",
        "    resized.rename(columns={'index':'image_id'},inplace=True)\n",
        "    return resized"
      ],
      "execution_count": 0,
      "outputs": []
    },
    {
      "cell_type": "code",
      "metadata": {
        "id": "Qgv4Hw3HHvx2",
        "colab_type": "code",
        "outputId": "e1bd82ee-1c8a-4a34-aff0-ad05d1f0eab5",
        "colab": {
          "base_uri": "https://localhost:8080/",
          "height": 412,
          "referenced_widgets": [
            "bd083596e6784fba9354d2cbd1cd44e9",
            "b72491b8f34b404e958b8fcc82a5b0d7",
            "aa204d4314d6460a88b14a1c76deefdb",
            "be6b08dc2e29475c8f6a20ae047c1683",
            "e71672556f934d74b84ca9de89293d63",
            "5948d6951649412f9d4dfeef24fb432f",
            "842c71a7605d4a0490ad4020bff25fe3",
            "7a7bd6d982bf46f3a5fd295b3a1e23f5",
            "6702c0c076314c6b8b1e55b73b910cec",
            "9d7b1d95103d44178133f45162b8a72d",
            "e731a0eccd9648528090789206320a74",
            "52bd54fa5d824fb18fe379203cd9e70c",
            "3c27619ebc0f46d99ea6700ed26fc050",
            "3d5769ebf76e48fa9dcf0e3b8c956b64",
            "02d3ed60880a4998985bd59244e29e0c",
            "e35e784b9e16468bab8ddcaee4ec25d7",
            "d610745fd3e44bed9c3ee994d7da6db3",
            "c734e651b2ab4e5ca2ef58a8c68357dc",
            "bc995dcb2a114a0aa07ba8bd7828434f",
            "43769a5b785f4cc1a700d4cdfefd1527",
            "341e040510e74fae9bc7bde3e4cd1727",
            "36f59ce7d6bf4655bd1b3905b4cad32e",
            "5db4c190bb824556bdfd69f74a8e8c29",
            "83307c8bde1541108690d69e59d87923",
            "69b09274c7f84ec5a4402c23d685461e",
            "42df0a04962b41f6b858b394c24faf27",
            "b3657b46c230425181a3e742a43b1add",
            "069b6a0429e041b9b4aab770a620e008",
            "96503e7dab814578a8c5dd14f7cd83b0",
            "1ad8882a851b4d50b6c99cad40aeb4bd",
            "df593228e65d4c5e902313dfe53b7261",
            "a767046dc6de42a58f4fded1ddce6ae9",
            "cb6c5c062ac541b1a98de08a180900ac",
            "50bb0cb5d2b34e659d6586f33856aac5",
            "c51d551670c54d42a11351341a26e5cc",
            "6146d227abff4f0a9c5f75b8f9e17679",
            "a206558c3cbe47bc846351a7007aed22",
            "7eec623dc5374a64888d7ca4536e18d4",
            "72258a1a5ee34474920498a4b6bdb2fd",
            "faca8b1e1d99473f8bfe692f8550ca85",
            "0ecafb72d0b34e728ea572f944fd7f79",
            "4bf31f0f4df64a65a365d8fd6525096a",
            "40a21affe68d437d905bff1fdeb6fac7",
            "4ac34ef2331441adb5494cd06ee1cbe2",
            "695d4226d6a245289e076a138475d5fe",
            "a7071ddede3f4189a6506686a98f6b02",
            "ebeb46a10b08417e936714b9de158ef6",
            "4a56acce58504d509df8a67bd3ee9f2e",
            "a1b8bf68e7b444938fd97d93a30b17c0",
            "9fdfc304035440f89ae4d28725fef531",
            "a4677d9db080434095fe6843d28137e0",
            "261d3cf2641b451c88c31d27a54c82ce",
            "46287c0d1dcd4b528d2184666b3a7d07",
            "789b773f82f04ec690d28a0b109694b1",
            "f4aac57319d04d1382fff53659af7556",
            "e1475618122043f998ba7188457b2b7d",
            "f50b2973fc794daa8b6447147e3604c7",
            "c3f894bc6b374a4b911cd05807688fda",
            "78ae8e60437e4da88b1702b6f8248ce4",
            "ae1915470bf2454b8094222f9956a833",
            "b349f99694d34400846170b61d7b6949",
            "fd4daa19da344cbf9a23dbb7edcfe3af",
            "e26bbf5b84c44fc09bda27013d0241a5",
            "d96674224406433a9345e2537cac8654"
          ]
        }
      },
      "source": [
        "model.eval()\n",
        "test_data = ['test_image_data_0.parquet','test_image_data_1.parquet','test_image_data_2.parquet','test_image_data_3.parquet']\n",
        "predictions = []\n",
        "batch_size=1\n",
        "for fname in test_data:\n",
        "    data = pd.read_parquet(f'/content/gdrive/My Drive/Bengali_AI_data/{fname}')\n",
        "    data = Resize(data)\n",
        "    test_image = GraphemeDataset(data)\n",
        "    test_loader = torch.utils.data.DataLoader(test_image,batch_size=1,shuffle=False)\n",
        "    with torch.no_grad():\n",
        "        for idx, (inputs) in tqdm(enumerate(test_loader),total=len(test_loader)):\n",
        "            inputs.to(device)\n",
        "            \n",
        "            outputs1,outputs2,outputs3 = model(inputs.unsqueeze(1).float().cuda())\n",
        "            predictions.append(outputs3.argmax(1).cpu().detach().numpy())\n",
        "            predictions.append(outputs2.argmax(1).cpu().detach().numpy())\n",
        "            predictions.append(outputs1.argmax(1).cpu().detach().numpy())"
      ],
      "execution_count": 0,
      "outputs": [
        {
          "output_type": "display_data",
          "data": {
            "application/vnd.jupyter.widget-view+json": {
              "model_id": "bd083596e6784fba9354d2cbd1cd44e9",
              "version_minor": 0,
              "version_major": 2
            },
            "text/plain": [
              "HBox(children=(IntProgress(value=0, max=3), HTML(value='')))"
            ]
          },
          "metadata": {
            "tags": []
          }
        },
        {
          "output_type": "stream",
          "text": [
            "\n"
          ],
          "name": "stdout"
        },
        {
          "output_type": "display_data",
          "data": {
            "application/vnd.jupyter.widget-view+json": {
              "model_id": "6702c0c076314c6b8b1e55b73b910cec",
              "version_minor": 0,
              "version_major": 2
            },
            "text/plain": [
              "HBox(children=(IntProgress(value=0, max=3), HTML(value='')))"
            ]
          },
          "metadata": {
            "tags": []
          }
        },
        {
          "output_type": "stream",
          "text": [
            "\n"
          ],
          "name": "stdout"
        },
        {
          "output_type": "display_data",
          "data": {
            "application/vnd.jupyter.widget-view+json": {
              "model_id": "d610745fd3e44bed9c3ee994d7da6db3",
              "version_minor": 0,
              "version_major": 2
            },
            "text/plain": [
              "HBox(children=(IntProgress(value=0, max=3), HTML(value='')))"
            ]
          },
          "metadata": {
            "tags": []
          }
        },
        {
          "output_type": "stream",
          "text": [
            "\n"
          ],
          "name": "stdout"
        },
        {
          "output_type": "display_data",
          "data": {
            "application/vnd.jupyter.widget-view+json": {
              "model_id": "69b09274c7f84ec5a4402c23d685461e",
              "version_minor": 0,
              "version_major": 2
            },
            "text/plain": [
              "HBox(children=(IntProgress(value=0, max=3), HTML(value='')))"
            ]
          },
          "metadata": {
            "tags": []
          }
        },
        {
          "output_type": "stream",
          "text": [
            "\n"
          ],
          "name": "stdout"
        },
        {
          "output_type": "display_data",
          "data": {
            "application/vnd.jupyter.widget-view+json": {
              "model_id": "cb6c5c062ac541b1a98de08a180900ac",
              "version_minor": 0,
              "version_major": 2
            },
            "text/plain": [
              "HBox(children=(IntProgress(value=0, max=3), HTML(value='')))"
            ]
          },
          "metadata": {
            "tags": []
          }
        },
        {
          "output_type": "stream",
          "text": [
            "\n"
          ],
          "name": "stdout"
        },
        {
          "output_type": "display_data",
          "data": {
            "application/vnd.jupyter.widget-view+json": {
              "model_id": "0ecafb72d0b34e728ea572f944fd7f79",
              "version_minor": 0,
              "version_major": 2
            },
            "text/plain": [
              "HBox(children=(IntProgress(value=0, max=3), HTML(value='')))"
            ]
          },
          "metadata": {
            "tags": []
          }
        },
        {
          "output_type": "stream",
          "text": [
            "\n"
          ],
          "name": "stdout"
        },
        {
          "output_type": "display_data",
          "data": {
            "application/vnd.jupyter.widget-view+json": {
              "model_id": "a1b8bf68e7b444938fd97d93a30b17c0",
              "version_minor": 0,
              "version_major": 2
            },
            "text/plain": [
              "HBox(children=(IntProgress(value=0, max=3), HTML(value='')))"
            ]
          },
          "metadata": {
            "tags": []
          }
        },
        {
          "output_type": "stream",
          "text": [
            "\n"
          ],
          "name": "stdout"
        },
        {
          "output_type": "display_data",
          "data": {
            "application/vnd.jupyter.widget-view+json": {
              "model_id": "f50b2973fc794daa8b6447147e3604c7",
              "version_minor": 0,
              "version_major": 2
            },
            "text/plain": [
              "HBox(children=(IntProgress(value=0, max=3), HTML(value='')))"
            ]
          },
          "metadata": {
            "tags": []
          }
        },
        {
          "output_type": "stream",
          "text": [
            "\n"
          ],
          "name": "stdout"
        }
      ]
    },
    {
      "cell_type": "code",
      "metadata": {
        "id": "6ldmLQ4FH80O",
        "colab_type": "code",
        "colab": {}
      },
      "source": [
        "submission = pd.read_csv('/content/gdrive/My Drive/Bengali_AI_data/sample_submission.csv')"
      ],
      "execution_count": 0,
      "outputs": []
    },
    {
      "cell_type": "code",
      "metadata": {
        "id": "AXXebY5TF2yf",
        "colab_type": "code",
        "colab": {}
      },
      "source": [
        "submission.target = np.hstack(predictions)"
      ],
      "execution_count": 0,
      "outputs": []
    },
    {
      "cell_type": "code",
      "metadata": {
        "id": "BYixqNdsF-Yt",
        "colab_type": "code",
        "outputId": "118b2e4d-14e5-4fc1-a960-0037b89232cc",
        "colab": {
          "base_uri": "https://localhost:8080/",
          "height": 355
        }
      },
      "source": [
        "submission.head(10) ## A good way to understand our expected output."
      ],
      "execution_count": 0,
      "outputs": [
        {
          "output_type": "execute_result",
          "data": {
            "text/html": [
              "<div>\n",
              "<style scoped>\n",
              "    .dataframe tbody tr th:only-of-type {\n",
              "        vertical-align: middle;\n",
              "    }\n",
              "\n",
              "    .dataframe tbody tr th {\n",
              "        vertical-align: top;\n",
              "    }\n",
              "\n",
              "    .dataframe thead th {\n",
              "        text-align: right;\n",
              "    }\n",
              "</style>\n",
              "<table border=\"1\" class=\"dataframe\">\n",
              "  <thead>\n",
              "    <tr style=\"text-align: right;\">\n",
              "      <th></th>\n",
              "      <th>row_id</th>\n",
              "      <th>target</th>\n",
              "    </tr>\n",
              "  </thead>\n",
              "  <tbody>\n",
              "    <tr>\n",
              "      <th>0</th>\n",
              "      <td>Test_0_consonant_diacritic</td>\n",
              "      <td>0</td>\n",
              "    </tr>\n",
              "    <tr>\n",
              "      <th>1</th>\n",
              "      <td>Test_0_grapheme_root</td>\n",
              "      <td>3</td>\n",
              "    </tr>\n",
              "    <tr>\n",
              "      <th>2</th>\n",
              "      <td>Test_0_vowel_diacritic</td>\n",
              "      <td>0</td>\n",
              "    </tr>\n",
              "    <tr>\n",
              "      <th>3</th>\n",
              "      <td>Test_1_consonant_diacritic</td>\n",
              "      <td>0</td>\n",
              "    </tr>\n",
              "    <tr>\n",
              "      <th>4</th>\n",
              "      <td>Test_1_grapheme_root</td>\n",
              "      <td>93</td>\n",
              "    </tr>\n",
              "    <tr>\n",
              "      <th>5</th>\n",
              "      <td>Test_1_vowel_diacritic</td>\n",
              "      <td>2</td>\n",
              "    </tr>\n",
              "    <tr>\n",
              "      <th>6</th>\n",
              "      <td>Test_2_consonant_diacritic</td>\n",
              "      <td>0</td>\n",
              "    </tr>\n",
              "    <tr>\n",
              "      <th>7</th>\n",
              "      <td>Test_2_grapheme_root</td>\n",
              "      <td>19</td>\n",
              "    </tr>\n",
              "    <tr>\n",
              "      <th>8</th>\n",
              "      <td>Test_2_vowel_diacritic</td>\n",
              "      <td>0</td>\n",
              "    </tr>\n",
              "    <tr>\n",
              "      <th>9</th>\n",
              "      <td>Test_3_consonant_diacritic</td>\n",
              "      <td>0</td>\n",
              "    </tr>\n",
              "  </tbody>\n",
              "</table>\n",
              "</div>"
            ],
            "text/plain": [
              "                       row_id  target\n",
              "0  Test_0_consonant_diacritic       0\n",
              "1        Test_0_grapheme_root       3\n",
              "2      Test_0_vowel_diacritic       0\n",
              "3  Test_1_consonant_diacritic       0\n",
              "4        Test_1_grapheme_root      93\n",
              "5      Test_1_vowel_diacritic       2\n",
              "6  Test_2_consonant_diacritic       0\n",
              "7        Test_2_grapheme_root      19\n",
              "8      Test_2_vowel_diacritic       0\n",
              "9  Test_3_consonant_diacritic       0"
            ]
          },
          "metadata": {
            "tags": []
          },
          "execution_count": 23
        }
      ]
    }
  ]
}